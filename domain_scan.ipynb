{
  "cells": [
    {
      "cell_type": "markdown",
      "metadata": {
        "id": "GndJnRKFrHEu"
      },
      "source": [
        "## Company Info"
      ]
    },
    {
      "cell_type": "code",
      "source": [
        "# Dependancies\n",
        "!pip install dnspython\n"
      ],
      "metadata": {
        "id": "YzjZ0qgYBfTa",
        "colab": {
          "base_uri": "https://localhost:8080/"
        },
        "outputId": "352ad81a-60a1-4c83-b266-6902763dc309"
      },
      "execution_count": null,
      "outputs": [
        {
          "output_type": "stream",
          "name": "stdout",
          "text": [
            "Collecting dnspython\n",
            "  Downloading dnspython-2.6.1-py3-none-any.whl (307 kB)\n",
            "\u001b[?25l     \u001b[90m━━━━━━━━━━━━━━━━━━━━━━━━━━━━━━━━━━━━━━━━\u001b[0m \u001b[32m0.0/307.7 kB\u001b[0m \u001b[31m?\u001b[0m eta \u001b[36m-:--:--\u001b[0m\r\u001b[2K     \u001b[91m━━━━━━━━━━━━━━━━━━━━━━━━━━━━━━━\u001b[0m\u001b[91m╸\u001b[0m\u001b[90m━━━━━━━━\u001b[0m \u001b[32m245.8/307.7 kB\u001b[0m \u001b[31m7.4 MB/s\u001b[0m eta \u001b[36m0:00:01\u001b[0m\r\u001b[2K     \u001b[90m━━━━━━━━━━━━━━━━━━━━━━━━━━━━━━━━━━━━━━━━\u001b[0m \u001b[32m307.7/307.7 kB\u001b[0m \u001b[31m6.7 MB/s\u001b[0m eta \u001b[36m0:00:00\u001b[0m\n",
            "\u001b[?25hInstalling collected packages: dnspython\n",
            "Successfully installed dnspython-2.6.1\n"
          ]
        }
      ]
    },
    {
      "cell_type": "code",
      "execution_count": null,
      "metadata": {
        "editable": true,
        "tags": [],
        "colab": {
          "base_uri": "https://localhost:8080/"
        },
        "id": "4TH1ITt5rHEw",
        "outputId": "fb998177-ba6e-4e39-e7c4-7f98753dab1d"
      },
      "outputs": [
        {
          "output_type": "stream",
          "name": "stdout",
          "text": [
            "Enter the website URL phishbate.com\n",
            "The Scan done of your Domain  phishbate.com provided the following results\n"
          ]
        }
      ],
      "source": [
        "# Domain\n",
        "domain = input(\"Enter the website URL \")\n",
        "print(\"The Scan done of your Domain \", domain,'provided the following results')"
      ]
    },
    {
      "cell_type": "markdown",
      "metadata": {
        "editable": true,
        "tags": [],
        "id": "enGhKqtxrHEx"
      },
      "source": [
        "## Website Security"
      ]
    },
    {
      "cell_type": "markdown",
      "metadata": {
        "editable": true,
        "jp-MarkdownHeadingCollapsed": true,
        "tags": [],
        "id": "0kv9zBJzrHEx"
      },
      "source": [
        "### 1.1 HTTP Strict Transport Security (HSTS) not enforced\n",
        "\n",
        "> Add blockquote\n",
        "\n",
        "\n",
        "\n",
        "> Add blockquote\n",
        "\n",
        "\n",
        "\n",
        "Without HSTS enforced, people browsing this site are more susceptible to man-in-the-middle attacks. The server should be configured to support HSTS."
      ]
    },
    {
      "cell_type": "code",
      "execution_count": null,
      "metadata": {
        "editable": true,
        "tags": [],
        "colab": {
          "base_uri": "https://localhost:8080/"
        },
        "id": "d4OniHZrrHEx",
        "outputId": "cca139a3-f5f4-4d36-a57d-0150f8286891"
      },
      "outputs": [
        {
          "output_type": "stream",
          "name": "stdout",
          "text": [
            "midlandinsurance.com.au does not have HTTP Strict Transport Security (HSTS) enforced.\n"
          ]
        }
      ],
      "source": [
        "import requests\n",
        "\n",
        "def has_hsts(url):\n",
        "    try:\n",
        "        response = requests.get(url)\n",
        "        headers = response.headers\n",
        "        if \"Strict-Transport-Security\" in headers:\n",
        "            return True\n",
        "        else:\n",
        "            return False\n",
        "    except requests.exceptions.RequestException:\n",
        "        return False\n",
        "\n",
        "if __name__ == \"__main__\":\n",
        "    website_url = domain #input(\"Enter the website URL to check for HSTS enforcement: \")\n",
        "    result = has_hsts(website_url)\n",
        "    if result:\n",
        "        print(f\"{website_url} has HTTP Strict Transport Security (HSTS) enforced.\")\n",
        "    else:\n",
        "        print(f\"{website_url} does not have HTTP Strict Transport Security (HSTS) enforced.\")\n"
      ]
    },
    {
      "cell_type": "markdown",
      "metadata": {
        "jp-MarkdownHeadingCollapsed": true,
        "id": "6nL-GknMrHEx"
      },
      "source": [
        "\n",
        "\n",
        "```\n",
        "# This is formatted as code\n",
        "```\n",
        "\n",
        "### 1.2 HttpOnly cookies not used\n",
        "\n",
        "When HttpOnly cookies are not used, the cookies can be accessed on the client, which enables certain type of client-side attacks. The website configuration should be changed to enforce HttpOnly cookies."
      ]
    },
    {
      "cell_type": "code",
      "execution_count": null,
      "metadata": {
        "colab": {
          "base_uri": "https://localhost:8080/"
        },
        "id": "_egzpWpWrHEy",
        "outputId": "6b1842c6-3880-4e41-dfe1-893582f4e48d"
      },
      "outputs": [
        {
          "output_type": "stream",
          "name": "stdout",
          "text": [
            "Error occurred: Invalid URL 'midlandinsurance.com.au': No scheme supplied. Perhaps you meant https://midlandinsurance.com.au?\n",
            "No HttpOnly cookies found on the website.\n"
          ]
        }
      ],
      "source": [
        "import requests\n",
        "\n",
        "def has_http_only_cookies(url):\n",
        "    try:\n",
        "        response = requests.get(url)\n",
        "        cookies = response.cookies\n",
        "        http_only_cookies = [cookie for cookie in cookies if cookie.get(\"httponly\", False)]\n",
        "        return http_only_cookies\n",
        "    except requests.exceptions.RequestException as e:\n",
        "        print(\"Error occurred:\", e)\n",
        "        return []\n",
        "\n",
        "if __name__ == \"__main__\":\n",
        "    website_url = domain # input(\"Enter the website URL to check for HttpOnly cookies: \")\n",
        "    http_only_cookies = has_http_only_cookies(website_url)\n",
        "\n",
        "    if http_only_cookies:\n",
        "        print(\"HttpOnly cookies found:\")\n",
        "        for cookie in http_only_cookies:\n",
        "            print(f\"Name: {cookie.name}, Value: {cookie.value}\")\n",
        "    else:\n",
        "        print(\"No HttpOnly cookies found on the website.\")\n"
      ]
    },
    {
      "cell_type": "markdown",
      "metadata": {
        "jp-MarkdownHeadingCollapsed": true,
        "id": "w_Uex5d0rHEy"
      },
      "source": [
        "### 1.3 X-Frame-Options is not deny or sameorigin\n",
        "\n",
        "Browsers may display this website's content in frames. This can lead to clickjacking attacks."
      ]
    },
    {
      "cell_type": "code",
      "execution_count": null,
      "metadata": {
        "colab": {
          "base_uri": "https://localhost:8080/"
        },
        "id": "PK54KA4UrHEy",
        "outputId": "a4165f4d-f565-4cbc-9458-f05b191361f6"
      },
      "outputs": [
        {
          "output_type": "stream",
          "name": "stdout",
          "text": [
            "X-Frame-Options header is not set for https://midlandinsurance.com.au. It might be vulnerable to clickjacking.\n"
          ]
        }
      ],
      "source": [
        "import requests\n",
        "\n",
        "def check_x_frame_options(url):\n",
        "    try:\n",
        "        response = requests.get(url)\n",
        "        x_frame_options = response.headers.get(\"X-Frame-Options\", None)\n",
        "\n",
        "        if x_frame_options is None:\n",
        "            print(f\"X-Frame-Options header is not set for {url}. It might be vulnerable to clickjacking.\")\n",
        "        elif x_frame_options.lower() in ['deny', 'sameorigin']:\n",
        "            print(f\"The X-Frame-Options header is set to '{x_frame_options}' for {url}. It's safe from clickjacking.\")\n",
        "        else:\n",
        "            print(f\"Warning: The X-Frame-Options header is set to '{x_frame_options}' for {url}. It might be vulnerable to clickjacking.\")\n",
        "    except requests.exceptions.RequestException as e:\n",
        "        print(f\"Error: {e}\")\n",
        "\n",
        "if __name__ == \"__main__\":\n",
        "    website_url = ('https://'+domain)\n",
        "    check_x_frame_options(website_url)\n"
      ]
    },
    {
      "cell_type": "markdown",
      "metadata": {
        "jp-MarkdownHeadingCollapsed": true,
        "id": "oJiSGVe9rHEy"
      },
      "source": [
        "\n",
        "\n",
        "```\n",
        "# This is formatted as code\n",
        "```\n",
        "\n",
        "### 1.4 CSP is not implemented\n",
        "\n",
        "No valid Content Security Policy is implemented. This increases the risk of XSS and clickjacking attacks."
      ]
    },
    {
      "cell_type": "code",
      "execution_count": null,
      "metadata": {
        "colab": {
          "base_uri": "https://localhost:8080/"
        },
        "id": "mmhFJr-CrHEy",
        "outputId": "27bca491-dbd2-401c-decd-0d5b3539ae37"
      },
      "outputs": [
        {
          "output_type": "stream",
          "name": "stdout",
          "text": [
            "The website does not have a Content Security Policy (CSP) implemented.\n"
          ]
        }
      ],
      "source": [
        "import requests\n",
        "\n",
        "def has_csp(url):\n",
        "    try:\n",
        "        response = requests.head(url)\n",
        "        headers = response.headers\n",
        "        csp_header = headers.get(\"Content-Security-Policy\")\n",
        "        if csp_header:\n",
        "            return True, csp_header\n",
        "        return False, None\n",
        "    except requests.exceptions.RequestException as e:\n",
        "        return False, None\n",
        "\n",
        "if __name__ == \"__main__\":\n",
        "    website_url = ('https://'+domain) #input(\"Enter the URL of the website you want to check: \")\n",
        "    has_csp, csp_header = has_csp(website_url)\n",
        "\n",
        "    if has_csp:\n",
        "        print(\"The website has a Content Security Policy (CSP) implemented.\")\n",
        "        print(\"CSP Header: {}\".format(csp_header))\n",
        "    else:\n",
        "        print(\"The website does not have a Content Security Policy (CSP) implemented.\")\n"
      ]
    },
    {
      "cell_type": "markdown",
      "metadata": {
        "jp-MarkdownHeadingCollapsed": true,
        "id": "m3ashlufrHEz"
      },
      "source": [
        "\n",
        "\n",
        "```\n",
        "# This is formatted as code\n",
        "```\n",
        "\n",
        "### 1.5 Domain was not found on the HSTS preload list\n",
        "\n",
        "The domain was not found on the HSTS preload list. Users who visit the website for the first time will be vulnerable to MITM attacks. The requirements for inclusion on the preload list are specified by hstspreload.org."
      ]
    },
    {
      "cell_type": "code",
      "execution_count": null,
      "metadata": {
        "colab": {
          "base_uri": "https://localhost:8080/"
        },
        "id": "BkNiRJF-rHEz",
        "outputId": "70f4c2d9-e0c2-4011-8670-80295777a99a"
      },
      "outputs": [
        {
          "output_type": "stream",
          "name": "stdout",
          "text": [
            "The website is not on the HSTS preload list.\n"
          ]
        }
      ],
      "source": [
        "import requests\n",
        "\n",
        "def check_hsts_preload_status(domain):\n",
        "    api_url = f\"https://hstspreload.org/api/v2/status?domain={domain}\"\n",
        "\n",
        "    try:\n",
        "        response = requests.get(api_url)\n",
        "        response_data = response.json()\n",
        "        if response_data['status'] == 'preloaded':\n",
        "            return True\n",
        "        elif response_data['status'] == 'pending':\n",
        "            return \"The website is pending addition to the HSTS preload list.\"\n",
        "        else:\n",
        "            return False\n",
        "    except requests.exceptions.RequestException as e:\n",
        "        print(f\"An error occurred while querying the API: {e}\")\n",
        "        return None\n",
        "    except ValueError as e:\n",
        "        print(f\"Error parsing the API response: {e}\")\n",
        "        return None\n",
        "\n",
        "if __name__ == \"__main__\":\n",
        "    website = domain #input(\"Enter the website domain to check (e.g., example.com): \")\n",
        "    result = check_hsts_preload_status(website)\n",
        "\n",
        "    if result is None:\n",
        "        print(\"Failed to check the HSTS preload status.\")\n",
        "    elif result is True:\n",
        "        print(\"The website is on the HSTS preload list.\")\n",
        "    elif result is False:\n",
        "        print(\"The website is not on the HSTS preload list.\")\n",
        "    else:\n",
        "        print(result)\n"
      ]
    },
    {
      "cell_type": "markdown",
      "metadata": {
        "jp-MarkdownHeadingCollapsed": true,
        "id": "9i08xjpRrHEz"
      },
      "source": [
        "\n",
        "\n",
        "```\n",
        "# This is formatted as code\n",
        "```\n",
        "\n",
        "### 1.6 X-Content-Type-Options is not nosniff\n",
        "\n",
        "Browsers may interpret files as a different MIME type than what is specified in the Content-Type HTTP header. This can lead to MIME confusion attacks."
      ]
    },
    {
      "cell_type": "code",
      "execution_count": null,
      "metadata": {
        "colab": {
          "base_uri": "https://localhost:8080/"
        },
        "id": "ueRYqCoJrHEz",
        "outputId": "2b443f0f-b08b-4241-80b8-10add08d962d"
      },
      "outputs": [
        {
          "output_type": "stream",
          "name": "stdout",
          "text": [
            "X-Content-Type-Options is not set to 'nosniff' or the website is not reachable.\n"
          ]
        }
      ],
      "source": [
        "import requests\n",
        "\n",
        "def check_x_content_type_options(url):\n",
        "    try:\n",
        "        response = requests.head(url)\n",
        "        x_content_type_options = response.headers.get('X-Content-Type-Options', '')\n",
        "        if x_content_type_options.lower() == 'nosniff':\n",
        "            return True\n",
        "        else:\n",
        "            return False\n",
        "    except requests.RequestException as e:\n",
        "        print(f\"An error occurred while trying to access the website: {e}\")\n",
        "        return False\n",
        "\n",
        "if __name__ == \"__main__\":\n",
        "    website_url = ('https://'+domain) #input(\"Enter the website URL to check X-Content-Type-Options (e.g., https://example.com): \")\n",
        "    result = check_x_content_type_options(website_url)\n",
        "\n",
        "    if result:\n",
        "        print(\"X-Content-Type-Options is set to 'nosniff'.\")\n",
        "    else:\n",
        "        print(\"X-Content-Type-Options is not set to 'nosniff' or the website is not reachable.\")\n"
      ]
    },
    {
      "cell_type": "markdown",
      "metadata": {
        "jp-MarkdownHeadingCollapsed": true,
        "id": "SLp1dRMLrHEz"
      },
      "source": [
        "*italicised text*### 1.7 Weak cipher suites supported in TLS 1.2\n",
        "\n",
        "Weak cipher suites can potentially be broken by a well resourced attacker, and should not be supported by the server unless very old devices or browsers must be supported."
      ]
    },
    {
      "cell_type": "code",
      "execution_count": null,
      "metadata": {
        "colab": {
          "base_uri": "https://localhost:8080/"
        },
        "id": "bLJUNk6brHE0",
        "outputId": "e003f31f-7894-4448-9403-4a97e84882b0"
      },
      "outputs": [
        {
          "output_type": "stream",
          "name": "stderr",
          "text": [
            "<ipython-input-16-6d3479c26696>:5: DeprecationWarning: ssl.PROTOCOL_TLSv1_2 is deprecated\n",
            "  context = ssl.SSLContext(ssl.PROTOCOL_TLSv1_2)\n"
          ]
        },
        {
          "output_type": "stream",
          "name": "stdout",
          "text": [
            "midlandinsurance.com.au is using a strong cipher suite: ECDHE-RSA-AES128-GCM-SHA256\n"
          ]
        }
      ],
      "source": [
        "import ssl\n",
        "import socket\n",
        "\n",
        "def check_weak_cipher_suites(hostname):\n",
        "    context = ssl.SSLContext(ssl.PROTOCOL_TLSv1_2)\n",
        "    context.set_ciphers('ALL')\n",
        "\n",
        "    try:\n",
        "        with socket.create_connection((hostname, 443)) as sock:\n",
        "            with context.wrap_socket(sock, server_hostname=hostname) as ssock:\n",
        "                cipher_info = ssock.cipher()\n",
        "                cipher_suite = cipher_info[0]\n",
        "\n",
        "                if \"RC4\" in cipher_suite or \"DES\" in cipher_suite:\n",
        "                    print(f\"Warning: {hostname} supports weak cipher suite: {cipher_suite}\")\n",
        "                else:\n",
        "                    print(f\"{hostname} is using a strong cipher suite: {cipher_suite}\")\n",
        "    except socket.gaierror:\n",
        "        print(f\"Error: Unable to resolve hostname {hostname}\")\n",
        "    except ssl.SSLError:\n",
        "        print(f\"Error: Unable to establish a TLS connection to {hostname}\")\n",
        "    except Exception as e:\n",
        "        print(f\"Error: {e}\")\n",
        "\n",
        "if __name__ == \"__main__\":\n",
        "    website = domain #\"example.com\"  # Replace this with the website you want to check\n",
        "    check_weak_cipher_suites(website)\n"
      ]
    },
    {
      "cell_type": "markdown",
      "metadata": {
        "id": "oUt_qNF3rHE0"
      },
      "source": [
        "### 1.8 No insecure SSL/TLS versions [available]\n",
        "\n",
        "No insecure SSL/TLS versions are available for this site."
      ]
    },
    {
      "cell_type": "code",
      "execution_count": null,
      "metadata": {
        "colab": {
          "base_uri": "https://localhost:8080/",
          "height": 341
        },
        "id": "qRqvYqg0rHE0",
        "outputId": "2d1b5918-a577-4e6f-b8ee-9a3f2c00aa6a"
      },
      "outputs": [
        {
          "output_type": "error",
          "ename": "AttributeError",
          "evalue": "module 'ssl' has no attribute 'PROTOCOL_SSLv2'",
          "traceback": [
            "\u001b[0;31m---------------------------------------------------------------------------\u001b[0m",
            "\u001b[0;31mAttributeError\u001b[0m                            Traceback (most recent call last)",
            "\u001b[0;32m<ipython-input-18-6717464b287e>\u001b[0m in \u001b[0;36m<cell line: 36>\u001b[0;34m()\u001b[0m\n\u001b[1;32m     36\u001b[0m \u001b[0;32mif\u001b[0m \u001b[0m__name__\u001b[0m \u001b[0;34m==\u001b[0m \u001b[0;34m\"__main__\"\u001b[0m\u001b[0;34m:\u001b[0m\u001b[0;34m\u001b[0m\u001b[0;34m\u001b[0m\u001b[0m\n\u001b[1;32m     37\u001b[0m     \u001b[0mwebsite_url\u001b[0m \u001b[0;34m=\u001b[0m \u001b[0mdomain\u001b[0m \u001b[0;31m#input(\"Enter the website URL to check for insecure SSL/TLS versions: \")\u001b[0m\u001b[0;34m\u001b[0m\u001b[0;34m\u001b[0m\u001b[0m\n\u001b[0;32m---> 38\u001b[0;31m     \u001b[0minsecure_versions\u001b[0m \u001b[0;34m=\u001b[0m \u001b[0mcheck_ssl_versions_insecure\u001b[0m\u001b[0;34m(\u001b[0m\u001b[0mwebsite_url\u001b[0m\u001b[0;34m)\u001b[0m\u001b[0;34m\u001b[0m\u001b[0;34m\u001b[0m\u001b[0m\n\u001b[0m\u001b[1;32m     39\u001b[0m \u001b[0;34m\u001b[0m\u001b[0m\n\u001b[1;32m     40\u001b[0m     \u001b[0;32mif\u001b[0m \u001b[0minsecure_versions\u001b[0m\u001b[0;34m:\u001b[0m\u001b[0;34m\u001b[0m\u001b[0;34m\u001b[0m\u001b[0m\n",
            "\u001b[0;32m<ipython-input-18-6717464b287e>\u001b[0m in \u001b[0;36mcheck_ssl_versions_insecure\u001b[0;34m(url)\u001b[0m\n\u001b[1;32m      9\u001b[0m \u001b[0;34m\u001b[0m\u001b[0m\n\u001b[1;32m     10\u001b[0m     \u001b[0;31m# Attempt connection with SSLv2\u001b[0m\u001b[0;34m\u001b[0m\u001b[0;34m\u001b[0m\u001b[0m\n\u001b[0;32m---> 11\u001b[0;31m     \u001b[0mcontext\u001b[0m \u001b[0;34m=\u001b[0m \u001b[0mssl\u001b[0m\u001b[0;34m.\u001b[0m\u001b[0mSSLContext\u001b[0m\u001b[0;34m(\u001b[0m\u001b[0mssl\u001b[0m\u001b[0;34m.\u001b[0m\u001b[0mPROTOCOL_SSLv2\u001b[0m\u001b[0;34m)\u001b[0m\u001b[0;34m\u001b[0m\u001b[0;34m\u001b[0m\u001b[0m\n\u001b[0m\u001b[1;32m     12\u001b[0m     \u001b[0;32mtry\u001b[0m\u001b[0;34m:\u001b[0m\u001b[0;34m\u001b[0m\u001b[0;34m\u001b[0m\u001b[0m\n\u001b[1;32m     13\u001b[0m         \u001b[0mrequests\u001b[0m\u001b[0;34m.\u001b[0m\u001b[0mget\u001b[0m\u001b[0;34m(\u001b[0m\u001b[0murl\u001b[0m\u001b[0;34m,\u001b[0m \u001b[0mverify\u001b[0m\u001b[0;34m=\u001b[0m\u001b[0;32mFalse\u001b[0m\u001b[0;34m,\u001b[0m \u001b[0mtimeout\u001b[0m\u001b[0;34m=\u001b[0m\u001b[0;36m5\u001b[0m\u001b[0;34m,\u001b[0m \u001b[0mheaders\u001b[0m\u001b[0;34m=\u001b[0m\u001b[0;34m{\u001b[0m\u001b[0;34m\"User-Agent\"\u001b[0m\u001b[0;34m:\u001b[0m \u001b[0;34m\"Mozilla/5.0\"\u001b[0m\u001b[0;34m}\u001b[0m\u001b[0;34m,\u001b[0m \u001b[0mcontext\u001b[0m\u001b[0;34m=\u001b[0m\u001b[0mcontext\u001b[0m\u001b[0;34m)\u001b[0m\u001b[0;34m\u001b[0m\u001b[0;34m\u001b[0m\u001b[0m\n",
            "\u001b[0;31mAttributeError\u001b[0m: module 'ssl' has no attribute 'PROTOCOL_SSLv2'"
          ]
        }
      ],
      "source": [
        "import requests\n",
        "import ssl\n",
        "\n",
        "def check_ssl_versions_insecure(url):\n",
        "    supported_versions = []\n",
        "\n",
        "    # Disable SSL certificate verification for simplicity\n",
        "    requests.packages.urllib3.disable_warnings()\n",
        "\n",
        "    # Attempt connection with SSLv2\n",
        "    context = ssl.SSLContext(ssl.PROTOCOL_SSLv2)\n",
        "    try:\n",
        "        requests.get(url, verify=False, timeout=5, headers={\"User-Agent\": \"Mozilla/5.0\"}, context=context)\n",
        "        supported_versions.append(\"SSLv2\")\n",
        "    except requests.exceptions.SSLError:\n",
        "        pass\n",
        "\n",
        "    # Attempt connection with SSLv3\n",
        "    context = ssl.SSLContext(ssl.PROTOCOL_SSLv3)\n",
        "    try:\n",
        "        requests.get(url, verify=False, timeout=5, headers={\"User-Agent\": \"Mozilla/5.0\"}, context=context)\n",
        "        supported_versions.append(\"SSLv3\")\n",
        "    except requests.exceptions.SSLError:\n",
        "        pass\n",
        "\n",
        "    # Attempt connection with TLS 1.0\n",
        "    context = ssl.SSLContext(ssl.PROTOCOL_TLSv1)\n",
        "    try:\n",
        "        requests.get(url, verify=False, timeout=5, headers={\"User-Agent\": \"Mozilla/5.0\"}, context=context)\n",
        "        supported_versions.append(\"TLS 1.0\")\n",
        "    except requests.exceptions.SSLError:\n",
        "        pass\n",
        "\n",
        "    return supported_versions\n",
        "\n",
        "if __name__ == \"__main__\":\n",
        "    website_url = domain #input(\"Enter the website URL to check for insecure SSL/TLS versions: \")\n",
        "    insecure_versions = check_ssl_versions_insecure(website_url)\n",
        "\n",
        "    if insecure_versions:\n",
        "        print(f\"The website supports the following insecure SSL/TLS versions: {', '.join(insecure_versions)}\")\n",
        "    else:\n",
        "        print(\"The website does not support any insecure SSL/TLS versions.\")\n"
      ]
    },
    {
      "cell_type": "markdown",
      "metadata": {
        "jp-MarkdownHeadingCollapsed": true,
        "id": "qL0YebT7rHE0"
      },
      "source": [
        "### 1.9 CAA enabled\n",
        "\n",
        "The domain contains a valid Certification Authority Authorization (CAA) record. A CAA record indicates which Certificate Authorities (CAs) are authorized to issue certificates for a domain."
      ]
    },
    {
      "cell_type": "code",
      "execution_count": null,
      "metadata": {
        "id": "W9zKyWBPrHE0",
        "colab": {
          "base_uri": "https://localhost:8080/"
        },
        "outputId": "63276d00-d41d-4457-d331-58fe0b30718f"
      },
      "outputs": [
        {
          "output_type": "stream",
          "name": "stdout",
          "text": [
            "Error: 'https://midlandinsurance.com.au' does not exist or has no CAA record.\n",
            "'https://midlandinsurance.com.au' does not have a valid Certification Authority Authorization (CAA) record.\n"
          ]
        },
        {
          "output_type": "stream",
          "name": "stderr",
          "text": [
            "<ipython-input-49-2b063d78b41c>:5: DeprecationWarning: please use dns.resolver.resolve() instead\n",
            "  answers = dns.resolver.query(domain, 'CAA')\n"
          ]
        }
      ],
      "source": [
        "import dns.resolver\n",
        "\n",
        "def has_valid_caa_record(domain):\n",
        "    try:\n",
        "        answers = dns.resolver.query(domain, 'CAA')\n",
        "    except dns.resolver.NoAnswer:\n",
        "        return False\n",
        "    except dns.resolver.NXDOMAIN:\n",
        "        print(f\"Error: '{domain}' does not exist or has no CAA record.\")\n",
        "        return False\n",
        "    except dns.resolver.Timeout:\n",
        "        print(\"Error: DNS query timeout.\")\n",
        "        return False\n",
        "\n",
        "    for rdata in answers:\n",
        "        if 'issue' in rdata.flags and rdata.issuer_critical:\n",
        "            return True\n",
        "\n",
        "    return False\n",
        "\n",
        "if __name__ == \"__main__\":\n",
        "    website_domain = ('https://'+domain) #input(\"Enter the website domain (e.g., example.com): \")\n",
        "    if has_valid_caa_record(website_domain):\n",
        "        print(f\"'{website_domain}' has a valid Certification Authority Authorization (CAA) record.\")\n",
        "    else:\n",
        "        print(f\"'{website_domain}' does not have a valid Certification Authority Authorization (CAA) record.\")\n"
      ]
    },
    {
      "cell_type": "markdown",
      "metadata": {
        "jp-MarkdownHeadingCollapsed": true,
        "id": "zLWFT32TrHE0"
      },
      "source": [
        "### 1.10 Not vulnerable to CVE-2015-4000 (Logjam)\n",
        "\n",
        "The server is using strong Diffie-Hellman parameters and is not vulnerable to the Logjam attack."
      ]
    },
    {
      "cell_type": "code",
      "execution_count": null,
      "metadata": {
        "id": "qS8u5-w5rHE0",
        "colab": {
          "base_uri": "https://localhost:8080/"
        },
        "outputId": "2d22fad1-31b0-4b5d-ca9d-6433214496d0"
      },
      "outputs": [
        {
          "output_type": "stream",
          "name": "stdout",
          "text": [
            "Socket Error: [Errno -2] Name or service not known\n"
          ]
        }
      ],
      "source": [
        "import requests\n",
        "import ssl\n",
        "import socket\n",
        "\n",
        "# Disable SSL certificate verification warning\n",
        "requests.packages.urllib3.disable_warnings()\n",
        "\n",
        "def is_vulnerable_to_logjam(url):\n",
        "    try:\n",
        "        # Set a timeout to avoid long waits for unresponsive servers\n",
        "        timeout = 5\n",
        "\n",
        "        # Send a request to the server to get its SSL/TLS capabilities\n",
        "        response = requests.get(url, timeout=timeout, verify=False)\n",
        "\n",
        "        # Extract the server's certificate\n",
        "        server_cert = ssl.get_server_certificate((url, 443))\n",
        "\n",
        "        # Create an SSL context using the server's certificate\n",
        "        ssl_context = ssl.create_default_context()\n",
        "        ssl_context.load_verify_locations(cadata=server_cert)\n",
        "\n",
        "        # Attempt to connect to the server using the created SSL context\n",
        "        with socket.create_connection((url, 443), timeout=timeout) as sock:\n",
        "            with ssl_context.wrap_socket(sock, server_hostname=url) as ssock:\n",
        "                # Check the cipher suite negotiated during the SSL handshake\n",
        "                cipher_name = ssock.cipher()[0]\n",
        "                if cipher_name.startswith('DHE') or cipher_name.startswith('EDH'):\n",
        "                    print(f\"{url} may be vulnerable to Logjam (CVE-2015-4000).\")\n",
        "                else:\n",
        "                    print(f\"{url} is not vulnerable to Logjam (CVE-2015-4000).\")\n",
        "    except requests.exceptions.RequestException as e:\n",
        "        print(f\"Error while connecting to {url}: {e}\")\n",
        "    except ssl.SSLError as e:\n",
        "        print(f\"SSL Error: {e}\")\n",
        "    except socket.timeout:\n",
        "        print(f\"Connection to {url} timed out.\")\n",
        "    except socket.error as e:\n",
        "        print(f\"Socket Error: {e}\")\n",
        "    except Exception as e:\n",
        "        print(f\"An error occurred: {e}\")\n",
        "\n",
        "if __name__ == \"__main__\":\n",
        "    # Replace 'example.com' with the URL you want to check\n",
        "    website_url = ('https://'+domain) # \"example.com\"\n",
        "    is_vulnerable_to_logjam(website_url)\n"
      ]
    },
    {
      "cell_type": "markdown",
      "metadata": {
        "jp-MarkdownHeadingCollapsed": true,
        "id": "6vyuZZSBrHE1"
      },
      "source": [
        "### 1.11 Not vulnerable to CVE-2014-0160 (Heartbleed)\n",
        "\n",
        "A bug in OpenSSL's implementation of the TLS heartbeat extension allows access to portions of memory on the targeted host e.g. cryptographic keys and passwords."
      ]
    },
    {
      "cell_type": "code",
      "execution_count": null,
      "metadata": {
        "id": "jyPo6pbirHE1",
        "colab": {
          "base_uri": "https://localhost:8080/"
        },
        "outputId": "35d439e9-9feb-4366-fd88-6fd3fedac200"
      },
      "outputs": [
        {
          "output_type": "stream",
          "name": "stdout",
          "text": [
            "The website midlandinsurance.com.au:443 is NOT vulnerable to Heartbleed.\n"
          ]
        }
      ],
      "source": [
        "import socket\n",
        "import ssl\n",
        "import struct\n",
        "\n",
        "def check_heartbleed_vulnerability(hostname, port=443, timeout=5):\n",
        "    try:\n",
        "        # Connect to the server and enable TLS/SSL with SNI support\n",
        "        sock = socket.socket(socket.AF_INET, socket.SOCK_STREAM)\n",
        "        sock.settimeout(timeout)\n",
        "        ssl_context = ssl.create_default_context()\n",
        "        sock = ssl_context.wrap_socket(sock, server_hostname=hostname)\n",
        "        sock.connect((hostname, port))\n",
        "\n",
        "        # The heartbeat request for Heartbleed vulnerability\n",
        "        heartbeat_request = b\"\\x18\\x03\\x02\\x00\\x03\\x01\\x40\\x00\"\n",
        "\n",
        "        # Send the heartbeat request\n",
        "        sock.send(heartbeat_request)\n",
        "\n",
        "        # Receive the response\n",
        "        response = sock.recv(1024)\n",
        "\n",
        "        # Check if the response indicates vulnerability\n",
        "        if response and response[0:3] == b\"\\x18\\x03\\x02\":\n",
        "            payload_length = struct.unpack(\"!H\", response[3:5])[0]\n",
        "            if response[5:9] == b\"\\x01\\x40\\x00\\x03\":\n",
        "                print(f\"The website {hostname}:{port} is VULNERABLE to Heartbleed.\")\n",
        "                return True\n",
        "\n",
        "        # The website is not vulnerable\n",
        "        print(f\"The website {hostname}:{port} is NOT vulnerable to Heartbleed.\")\n",
        "        return False\n",
        "\n",
        "    except (socket.error, ssl.SSLError) as e:\n",
        "        print(f\"Error: {e}\")\n",
        "        return False\n",
        "\n",
        "    finally:\n",
        "        sock.close()\n",
        "\n",
        "if __name__ == \"__main__\":\n",
        "    # Replace \"example.com\" with the website you want to check\n",
        "    website = domain #\"example.com\"\n",
        "    check_heartbleed_vulnerability(website)\n"
      ]
    },
    {
      "cell_type": "code",
      "execution_count": null,
      "metadata": {
        "id": "h0qOdjZIrHE1"
      },
      "outputs": [],
      "source": []
    },
    {
      "cell_type": "markdown",
      "metadata": {
        "jp-MarkdownHeadingCollapsed": true,
        "id": "-NRW-OV4rHE1"
      },
      "source": [
        "### 1.12 Not vulnerable to CVE-2014-3566 (POODLE)\n",
        "\n",
        "The server does not support SSLv3, and is not vulnerable to the POODLE attack."
      ]
    },
    {
      "cell_type": "code",
      "execution_count": null,
      "metadata": {
        "id": "NdBimE-2rHE1",
        "colab": {
          "base_uri": "https://localhost:8080/",
          "height": 251
        },
        "outputId": "e96c17f9-9e85-4c49-d1f4-01ebfe6a0547"
      },
      "outputs": [
        {
          "output_type": "error",
          "ename": "NameError",
          "evalue": "name 'domain' is not defined",
          "traceback": [
            "\u001b[0;31m---------------------------------------------------------------------------\u001b[0m",
            "\u001b[0;31mNameError\u001b[0m                                 Traceback (most recent call last)",
            "\u001b[0;32m<ipython-input-1-588ffc7ca70d>\u001b[0m in \u001b[0;36m<cell line: 35>\u001b[0;34m()\u001b[0m\n\u001b[1;32m     34\u001b[0m \u001b[0;34m\u001b[0m\u001b[0m\n\u001b[1;32m     35\u001b[0m \u001b[0;32mif\u001b[0m \u001b[0m__name__\u001b[0m \u001b[0;34m==\u001b[0m \u001b[0;34m\"__main__\"\u001b[0m\u001b[0;34m:\u001b[0m\u001b[0;34m\u001b[0m\u001b[0;34m\u001b[0m\u001b[0m\n\u001b[0;32m---> 36\u001b[0;31m     \u001b[0mwebsite_url\u001b[0m \u001b[0;34m=\u001b[0m \u001b[0mdomain\u001b[0m \u001b[0;31m#input(\"Enter the website URL to check for POODLE vulnerability: \")\u001b[0m\u001b[0;34m\u001b[0m\u001b[0;34m\u001b[0m\u001b[0m\n\u001b[0m\u001b[1;32m     37\u001b[0m     \u001b[0mis_poodle_vulnerable\u001b[0m\u001b[0;34m(\u001b[0m\u001b[0mwebsite_url\u001b[0m\u001b[0;34m)\u001b[0m\u001b[0;34m\u001b[0m\u001b[0;34m\u001b[0m\u001b[0m\n",
            "\u001b[0;31mNameError\u001b[0m: name 'domain' is not defined"
          ]
        }
      ],
      "source": [
        "import requests\n",
        "import ssl\n",
        "import socket\n",
        "\n",
        "def is_poodle_vulnerable(url):\n",
        "    try:\n",
        "        # Disable SSLv3\n",
        "        context = ssl.create_default_context()\n",
        "        context.options |= ssl.OP_NO_SSLv3\n",
        "\n",
        "        # Try to connect using TLSv1.0 and SSLv23\n",
        "        for protocol in [ssl.PROTOCOL_TLSv1, ssl.PROTOCOL_SSLv23]:\n",
        "            try:\n",
        "                with socket.create_connection((url, 443)) as sock:\n",
        "                    with context.wrap_socket(sock, server_hostname=url) as ssock:\n",
        "                        # Send a request to the server\n",
        "                        ssock.send(b\"GET / HTTP/1.1\\r\\nHost: %s\\r\\n\\r\\n\" % url.encode())\n",
        "\n",
        "                        # Check if the server responds correctly\n",
        "                        response = ssock.recv(1024)\n",
        "                        if b\"HTTP/1.1\" in response:\n",
        "                            print(f\"{url} is NOT vulnerable to POODLE.\")\n",
        "                            return False\n",
        "            except (socket.error, ssl.SSLError):\n",
        "                pass\n",
        "\n",
        "        # If no secure connection could be established, consider it vulnerable\n",
        "        print(f\"{url} is vulnerable to POODLE.\")\n",
        "        return True\n",
        "\n",
        "    except Exception as e:\n",
        "        print(f\"Error: {e}\")\n",
        "        return False\n",
        "\n",
        "if __name__ == \"__main__\":\n",
        "    website_url = domain #input(\"Enter the website URL to check for POODLE vulnerability: \")\n",
        "    is_poodle_vulnerable(website_url)\n"
      ]
    },
    {
      "cell_type": "markdown",
      "metadata": {
        "id": "0laJrgn1rHE1"
      },
      "source": [
        "### 1.13 Not vulnerable to CVE-2015-0204 (FREAK)\n",
        "\n",
        "The server does not offer RSA_EXPORT cipher suites, so clients are not vulnerable to the FREAK attack."
      ]
    },
    {
      "cell_type": "code",
      "execution_count": null,
      "metadata": {
        "id": "kNJ0zhatrHE1",
        "colab": {
          "base_uri": "https://localhost:8080/",
          "height": 305
        },
        "outputId": "bef7c554-96f4-45b2-8419-e759fe3191a5"
      },
      "outputs": [
        {
          "output_type": "error",
          "ename": "AttributeError",
          "evalue": "'tuple' object has no attribute 'name'",
          "traceback": [
            "\u001b[0;31m---------------------------------------------------------------------------\u001b[0m",
            "\u001b[0;31mAttributeError\u001b[0m                            Traceback (most recent call last)",
            "\u001b[0;32m<ipython-input-51-a2ca32703a5d>\u001b[0m in \u001b[0;36m<cell line: 19>\u001b[0;34m()\u001b[0m\n\u001b[1;32m     17\u001b[0m \u001b[0;31m# Example usage\u001b[0m\u001b[0;34m\u001b[0m\u001b[0;34m\u001b[0m\u001b[0m\n\u001b[1;32m     18\u001b[0m \u001b[0mwebsite\u001b[0m \u001b[0;34m=\u001b[0m \u001b[0mdomain\u001b[0m \u001b[0;31m#\"example.com\"\u001b[0m\u001b[0;34m\u001b[0m\u001b[0;34m\u001b[0m\u001b[0m\n\u001b[0;32m---> 19\u001b[0;31m \u001b[0mcheck_freak_vulnerability\u001b[0m\u001b[0;34m(\u001b[0m\u001b[0mwebsite\u001b[0m\u001b[0;34m)\u001b[0m\u001b[0;34m\u001b[0m\u001b[0;34m\u001b[0m\u001b[0m\n\u001b[0m",
            "\u001b[0;32m<ipython-input-51-a2ca32703a5d>\u001b[0m in \u001b[0;36mcheck_freak_vulnerability\u001b[0;34m(hostname)\u001b[0m\n\u001b[1;32m      8\u001b[0m         \u001b[0;32mwith\u001b[0m \u001b[0mcontext\u001b[0m\u001b[0;34m.\u001b[0m\u001b[0mwrap_socket\u001b[0m\u001b[0;34m(\u001b[0m\u001b[0msock\u001b[0m\u001b[0;34m,\u001b[0m \u001b[0mserver_hostname\u001b[0m\u001b[0;34m=\u001b[0m\u001b[0mhostname\u001b[0m\u001b[0;34m)\u001b[0m \u001b[0;32mas\u001b[0m \u001b[0mssl_sock\u001b[0m\u001b[0;34m:\u001b[0m\u001b[0;34m\u001b[0m\u001b[0;34m\u001b[0m\u001b[0m\n\u001b[1;32m      9\u001b[0m             \u001b[0mcipher\u001b[0m \u001b[0;34m=\u001b[0m \u001b[0mssl_sock\u001b[0m\u001b[0;34m.\u001b[0m\u001b[0mcipher\u001b[0m\u001b[0;34m(\u001b[0m\u001b[0;34m)\u001b[0m\u001b[0;34m\u001b[0m\u001b[0;34m\u001b[0m\u001b[0m\n\u001b[0;32m---> 10\u001b[0;31m             \u001b[0;32mif\u001b[0m \u001b[0;34m\"EXPORT\"\u001b[0m \u001b[0;32min\u001b[0m \u001b[0mcipher\u001b[0m\u001b[0;34m.\u001b[0m\u001b[0mname\u001b[0m\u001b[0;34m:\u001b[0m\u001b[0;34m\u001b[0m\u001b[0;34m\u001b[0m\u001b[0m\n\u001b[0m\u001b[1;32m     11\u001b[0m                 \u001b[0mprint\u001b[0m\u001b[0;34m(\u001b[0m\u001b[0;34mf\"The website {hostname} offers RSA_EXPORT cipher suites.\"\u001b[0m\u001b[0;34m)\u001b[0m\u001b[0;34m\u001b[0m\u001b[0;34m\u001b[0m\u001b[0m\n\u001b[1;32m     12\u001b[0m             \u001b[0;32melse\u001b[0m\u001b[0;34m:\u001b[0m\u001b[0;34m\u001b[0m\u001b[0;34m\u001b[0m\u001b[0m\n",
            "\u001b[0;31mAttributeError\u001b[0m: 'tuple' object has no attribute 'name'"
          ]
        }
      ],
      "source": [
        "import ssl\n",
        "import socket\n",
        "\n",
        "def check_freak_vulnerability(hostname):\n",
        "    try:\n",
        "        context = ssl.create_default_context()\n",
        "        sock = socket.create_connection((hostname, 443))\n",
        "        with context.wrap_socket(sock, server_hostname=hostname) as ssl_sock:\n",
        "            cipher = ssl_sock.cipher()\n",
        "            if \"EXPORT\" in cipher.name:\n",
        "                print(f\"The website {hostname} offers RSA_EXPORT cipher suites.\")\n",
        "            else:\n",
        "                print(f\"The website {hostname} does not offer RSA_EXPORT cipher suites.\")\n",
        "    except ssl.SSLError as e:\n",
        "        print(f\"An error occurred: {str(e)}\")\n",
        "\n",
        "# Example usage\n",
        "website = domain #\"example.com\"\n",
        "check_freak_vulnerability(website)\n"
      ]
    },
    {
      "cell_type": "markdown",
      "metadata": {
        "jp-MarkdownHeadingCollapsed": true,
        "id": "W5oYuzq1rHE1"
      },
      "source": [
        "### 1.14 SSL does not expire within 20 days\n",
        "\n",
        "SSL certificate does not expire within 20 days."
      ]
    },
    {
      "cell_type": "code",
      "execution_count": null,
      "metadata": {
        "id": "hw0qEE40rHE1",
        "colab": {
          "base_uri": "https://localhost:8080/"
        },
        "outputId": "5183b1d4-9f46-4616-ff40-181eee1e4531"
      },
      "outputs": [
        {
          "output_type": "stream",
          "name": "stdout",
          "text": [
            "SSL certificate has an expiration greater than 20 days.\n"
          ]
        }
      ],
      "source": [
        "import ssl\n",
        "import socket\n",
        "from datetime import datetime, timedelta\n",
        "\n",
        "def check_ssl_expiry(hostname, port):\n",
        "    context = ssl.create_default_context()\n",
        "    with socket.create_connection((hostname, port)) as sock:\n",
        "        with context.wrap_socket(sock, server_hostname=hostname) as sslsock:\n",
        "            cert = sslsock.getpeercert()\n",
        "            cert_expiry = datetime.strptime(cert['notAfter'], \"%b %d %H:%M:%S %Y %Z\")\n",
        "            current_time = datetime.now()\n",
        "            days_remaining = (cert_expiry - current_time).days\n",
        "            if days_remaining < 20:\n",
        "                return True\n",
        "            else:\n",
        "                return False\n",
        "\n",
        "# Example usage\n",
        "hostname = domain  # Replace with the website's hostname\n",
        "port = 443  # The default SSL/TLS port\n",
        "\n",
        "if check_ssl_expiry(hostname, port):\n",
        "    print(\"SSL certificate has an expiration period shorter than 20 days!\")\n",
        "else:\n",
        "    print(\"SSL certificate has an expiration greater than 20 days.\")\n"
      ]
    },
    {
      "cell_type": "markdown",
      "metadata": {
        "jp-MarkdownHeadingCollapsed": true,
        "id": "vOsC-k8KrHE1"
      },
      "source": [
        "### 1.15 SSL expiration period shorter than 398 days\n",
        "\n",
        "The SSL certificate presented by the server has an expiration period shorter than 398 days."
      ]
    },
    {
      "cell_type": "code",
      "execution_count": null,
      "metadata": {
        "id": "KcyqNLSprHE2",
        "colab": {
          "base_uri": "https://localhost:8080/"
        },
        "outputId": "a7e9da57-5834-4542-d07d-7dfb255eb955"
      },
      "outputs": [
        {
          "output_type": "stream",
          "name": "stdout",
          "text": [
            "The SSL certificate expires in less than 398 days.\n"
          ]
        }
      ],
      "source": [
        "import ssl\n",
        "import datetime\n",
        "import socket\n",
        "\n",
        "\n",
        "def check_ssl_certificate_expiration(hostname, port=443):\n",
        "    try:\n",
        "        # Create a socket connection to the website\n",
        "        with socket.create_connection((hostname, port)) as sock:\n",
        "            # Create an SSL context\n",
        "            context = ssl.create_default_context()\n",
        "            with context.wrap_socket(sock, server_hostname=hostname) as ssl_sock:\n",
        "                # Get the SSL certificate from the server\n",
        "                cert = ssl_sock.getpeercert()\n",
        "\n",
        "                # Extract the expiration date from the certificate\n",
        "                expires = datetime.datetime.strptime(cert['notAfter'], \"%b %d %H:%M:%S %Y %Z\")\n",
        "\n",
        "                # Calculate the number of days until expiration\n",
        "                remaining_days = (expires - datetime.datetime.now()).days\n",
        "\n",
        "                # Check if the expiration period is shorter than 398 days\n",
        "                if remaining_days < 398:\n",
        "                    print(\"The SSL certificate expires in less than 398 days.\")\n",
        "                else:\n",
        "                    print(\"The SSL certificate is valid for more than 398 days.\")\n",
        "    except ssl.SSLError as e:\n",
        "        print(\"An SSL error occurred:\", str(e))\n",
        "    except socket.gaierror as e:\n",
        "        print(\"Failed to connect to the server:\", str(e))\n",
        "\n",
        "\n",
        "# Example usage\n",
        "website = domain\n",
        "check_ssl_certificate_expiration(website)\n"
      ]
    },
    {
      "cell_type": "markdown",
      "metadata": {
        "editable": true,
        "jp-MarkdownHeadingCollapsed": true,
        "tags": [],
        "id": "CPsFE-tFrHE2"
      },
      "source": [
        "### 1.16 SSL Expiry\n",
        "Has the SSL expired on this domain?"
      ]
    },
    {
      "cell_type": "code",
      "execution_count": null,
      "metadata": {
        "editable": true,
        "tags": [],
        "id": "C_VPFJmRrHE2",
        "colab": {
          "base_uri": "https://localhost:8080/"
        },
        "outputId": "8f935676-d6a3-4f1a-b8b0-8ce86f1d477e"
      },
      "outputs": [
        {
          "output_type": "stream",
          "name": "stdout",
          "text": [
            "✅ The SSL certificate for midlandinsurance.com.au is valid. 79 days left.\n"
          ]
        }
      ],
      "source": [
        "# Findings\n",
        "import ssl\n",
        "import socket\n",
        "from datetime import datetime\n",
        "\n",
        "def check_ssl_certificate_expiration(hostname, port=443):\n",
        "    try:\n",
        "        context = ssl.create_default_context()\n",
        "        with socket.create_connection((hostname, port)) as sock:\n",
        "            with context.wrap_socket(sock, server_hostname=hostname) as ssl_sock:\n",
        "                cert = ssl_sock.getpeercert()\n",
        "                expiration_date = datetime.strptime(cert['notAfter'], \"%b %d %H:%M:%S %Y %Z\")\n",
        "                current_date = datetime.now()\n",
        "                days_left = (expiration_date - current_date).days\n",
        "                if days_left > 0:\n",
        "                    print(f\"✅ The SSL certificate for {hostname} is valid. {days_left} days left.\")\n",
        "                else:\n",
        "                    print(f\"The SSL certificate for {hostname} has expired.\")\n",
        "    except ssl.SSLError as e:\n",
        "        print(f\"An error occurred while checking the SSL certificate: {e}\")\n",
        "    except socket.gaierror as e:\n",
        "        print(f\"An error occurred while connecting to the server: {e}\")\n",
        "    except Exception as e:\n",
        "        print(f\"An unexpected error occurred: {e}\")\n",
        "\n",
        "# Example usage\n",
        "website = domain\n",
        "check_ssl_certificate_expiration(website)"
      ]
    },
    {
      "cell_type": "markdown",
      "metadata": {
        "id": "EGKePKmerHE2"
      },
      "source": [
        "### 1.17 Strong SSL algorithm\n",
        "\n",
        "Industry standard SHA-256 encryption in use.\n",
        "\n",
        "/cod"
      ]
    },
    {
      "cell_type": "code",
      "execution_count": null,
      "metadata": {
        "id": "rLqRpJidrHE2",
        "colab": {
          "base_uri": "https://localhost:8080/"
        },
        "outputId": "95e62c24-4820-47c5-cd61-aa5ba410baab"
      },
      "outputs": [
        {
          "output_type": "stream",
          "name": "stdout",
          "text": [
            "Error occurred while checking SSL: 'HTTPAdapter' object has no attribute 'sock'\n"
          ]
        }
      ],
      "source": [
        "import ssl\n",
        "import requests\n",
        "from OpenSSL import SSL\n",
        "from cryptography.hazmat.primitives import hashes\n",
        "\n",
        "def is_strong_ssl_algorithm(cert):\n",
        "    # Check if the certificate is using SHA-256 or a stronger hashing algorithm\n",
        "    if isinstance(cert.signature_hash_algorithm, hashes.SHA256):\n",
        "        return True\n",
        "    return False\n",
        "\n",
        "def check_website_ssl_strength(url):\n",
        "    try:\n",
        "        response = requests.get(url, verify=True)  # Verify SSL certificate\n",
        "        cert = response.connection.sock.getpeercert()\n",
        "\n",
        "        # Decode the certificate using OpenSSL to get signature algorithm details\n",
        "        x509 = ssl.DER_cert_to_PEM_cert(cert)\n",
        "        cert = SSL.Connection(SSL.Context(ssl.PROTOCOL_TLS))\n",
        "        cert.set_tlsext_host_name(url.encode())  # SNI support for virtual hosting\n",
        "\n",
        "        try:\n",
        "            cert.set_connect_state()\n",
        "            cert.do_handshake()\n",
        "        except SSL.Error:\n",
        "            pass\n",
        "\n",
        "        if cert.get_peer_certificate():\n",
        "            if is_strong_ssl_algorithm(cert.get_peer_certificate()):\n",
        "                print(f\"The SSL algorithm on {url} is strong (SHA-256 or stronger).\")\n",
        "            else:\n",
        "                print(f\"The SSL algorithm on {url} is weak.\")\n",
        "        else:\n",
        "            print(f\"Failed to retrieve certificate details from {url}.\")\n",
        "    except Exception as e:\n",
        "        print(f\"Error occurred while checking SSL: {e}\")\n",
        "\n",
        "if __name__ == \"__main__\":\n",
        "    website_url = ('https://'+domain) #\"https://example.com\"  # Replace this with the website you want to check\n",
        "    check_website_ssl_strength(website_url)\n"
      ]
    },
    {
      "cell_type": "markdown",
      "metadata": {
        "jp-MarkdownHeadingCollapsed": true,
        "id": "sEma2Ja0rHE2"
      },
      "source": [
        "### 1.18 Hostname matches SSL certificate\n",
        "\n",
        "The site's hostname matches the SSL certificate."
      ]
    },
    {
      "cell_type": "code",
      "execution_count": null,
      "metadata": {
        "id": "sD8LRBDQrHFA",
        "colab": {
          "base_uri": "https://localhost:8080/"
        },
        "outputId": "96074690-e0ce-4f09-c91d-568cb914ce96"
      },
      "outputs": [
        {
          "output_type": "stream",
          "name": "stdout",
          "text": [
            "Hostname and SSL certificate match: False\n",
            "Certificate verified.\n"
          ]
        }
      ],
      "source": [
        "import socket\n",
        "import ssl\n",
        "\n",
        "def check_hostname_matches_ssl_certificate(hostname, port=443):\n",
        "    try:\n",
        "        # Connect to the website\n",
        "        with socket.create_connection((hostname, port)) as sock:\n",
        "            # Create an SSL context\n",
        "            context = ssl.create_default_context()\n",
        "            with context.wrap_socket(sock, server_hostname=hostname) as ssl_sock:\n",
        "                # Get the SSL certificate\n",
        "                cert = ssl_sock.getpeercert()\n",
        "\n",
        "                # Check if the Common Name (CN) in the certificate matches the hostname\n",
        "                common_name = None\n",
        "                for name_entry in cert.get(\"subject\", []):\n",
        "                    if name_entry[0][0] == \"commonName\":\n",
        "                        common_name = name_entry[0][1]\n",
        "                        break\n",
        "\n",
        "                if common_name is None:\n",
        "                    return False, \"Could not find Common Name in SSL certificate.\"\n",
        "\n",
        "                return common_name == hostname, \"Certificate verified.\"\n",
        "\n",
        "    except socket.gaierror:\n",
        "        return False, \"Invalid hostname or unable to resolve.\"\n",
        "\n",
        "    except ssl.SSLError as e:\n",
        "        return False, f\"SSL error: {e.strerror}\"\n",
        "\n",
        "if __name__ == \"__main__\":\n",
        "    website = domain #input(\"Enter the website hostname: \")\n",
        "    result, message = check_hostname_matches_ssl_certificate(website)\n",
        "\n",
        "    print(f\"Hostname and SSL certificate match: {result}\")\n",
        "    print(message)\n"
      ]
    },
    {
      "cell_type": "markdown",
      "metadata": {
        "jp-MarkdownHeadingCollapsed": true,
        "id": "FY6qYo0HrHFA"
      },
      "source": [
        "### 1.19 Certificate not found on our revoked certificate list\n",
        "\n",
        "The site's certificate chain was checked against our list of revoked certificates."
      ]
    },
    {
      "cell_type": "code",
      "execution_count": null,
      "metadata": {
        "id": "7sNPW2unrHFB",
        "colab": {
          "base_uri": "https://localhost:8080/"
        },
        "outputId": "9589d812-1a1a-43d3-d998-67e17c789de4"
      },
      "outputs": [
        {
          "output_type": "stream",
          "name": "stdout",
          "text": [
            "Error: Unable to load PEM file. See https://cryptography.io/en/latest/faq/#why-can-t-i-import-my-pem-file for more details. MalformedFraming\n"
          ]
        }
      ],
      "source": [
        "import requests\n",
        "from cryptography import x509\n",
        "from cryptography.hazmat.backends import default_backend\n",
        "from cryptography.x509.oid import ExtensionOID\n",
        "\n",
        "def is_certificate_revoked(url):\n",
        "    try:\n",
        "        # Fetch the website's SSL/TLS certificate\n",
        "        response = requests.get(url)\n",
        "        cert_data = response.content\n",
        "\n",
        "        # Parse the certificate using cryptography\n",
        "        cert = x509.load_pem_x509_certificate(cert_data, default_backend())\n",
        "\n",
        "        # Get the CRL Distribution Points from the certificate\n",
        "        crl_dist_points = cert.extensions.get_extension_for_oid(ExtensionOID.CRL_DISTRIBUTION_POINTS)\n",
        "\n",
        "        # Extract the URL of the CRL\n",
        "        crl_url = crl_dist_points.value[0].full_name[0].value\n",
        "\n",
        "        # Fetch the CRL data\n",
        "        crl_response = requests.get(crl_url)\n",
        "        crl_data = crl_response.content\n",
        "\n",
        "        # Load and parse the CRL using cryptography\n",
        "        crl = x509.load_pem_x509_crl(crl_data, default_backend())\n",
        "\n",
        "        # Check if the certificate's serial number is present in the CRL\n",
        "        if cert.serial_number in crl:\n",
        "            print(\"Certificate is revoked.\")\n",
        "            return False\n",
        "        else:\n",
        "            print(\"Certificate is valid.\")\n",
        "            return True\n",
        "\n",
        "    except Exception as e:\n",
        "        print(f\"Error: {e}\")\n",
        "        return False\n",
        "\n",
        "if __name__ == \"__main__\":\n",
        "    website_url = ('https://'+domain) #input(\"Enter the website URL: \")\n",
        "    is_certificate_revoked(website_url)\n"
      ]
    },
    {
      "cell_type": "markdown",
      "metadata": {
        "jp-MarkdownHeadingCollapsed": true,
        "id": "XiyzUOrfrHFB"
      },
      "source": [
        "### 1.20 SSL certificate chain present in server response\n",
        "\n",
        "A complete SSL certificate chain was presented by the server for this domain."
      ]
    },
    {
      "cell_type": "code",
      "execution_count": null,
      "metadata": {
        "id": "yII3CvuprHFB",
        "colab": {
          "base_uri": "https://localhost:8080/"
        },
        "outputId": "20a82898-89b7-4df8-a1d1-02f3aae78b04"
      },
      "outputs": [
        {
          "output_type": "stream",
          "name": "stdout",
          "text": [
            "Request Error: HTTPSConnectionPool(host='https', port=443): Max retries exceeded with url: //midlandinsurance.com.au (Caused by NameResolutionError(\"<urllib3.connection.HTTPSConnection object at 0x7f92703d5c00>: Failed to resolve 'https' ([Errno -2] Name or service not known)\"))\n",
            "No SSL certificate chain found.\n"
          ]
        }
      ],
      "source": [
        "import requests\n",
        "import ssl\n",
        "import OpenSSL\n",
        "\n",
        "def get_ssl_certificate_chain(hostname):\n",
        "    try:\n",
        "        # Send an HTTPS request to the website\n",
        "        response = requests.get(f\"https://{hostname}\", verify=True)\n",
        "\n",
        "        # Get the SSL certificate from the server response\n",
        "        cert_data = response.connection.sock.getpeercert(binary_form=True)\n",
        "\n",
        "        # Parse the certificate data using OpenSSL\n",
        "        x509 = OpenSSL.crypto.load_certificate(OpenSSL.crypto.FILETYPE_ASN1, cert_data)\n",
        "\n",
        "        # Extract the certificate chain\n",
        "        chain = [x509]\n",
        "        while True:\n",
        "            issuer = x509.get_issuer()\n",
        "            if issuer == x509.get_subject():\n",
        "                break\n",
        "            x509 = issuer\n",
        "            chain.append(x509)\n",
        "\n",
        "        return chain\n",
        "\n",
        "    except requests.exceptions.SSLError as e:\n",
        "        print(f\"SSL Error: {e}\")\n",
        "    except requests.exceptions.RequestException as e:\n",
        "        print(f\"Request Error: {e}\")\n",
        "    except Exception as e:\n",
        "        print(f\"An error occurred: {e}\")\n",
        "\n",
        "    return None\n",
        "\n",
        "if __name__ == \"__main__\":\n",
        "    website = ('https://'+domain) #input(\"Enter the website URL: \")\n",
        "    certificate_chain = get_ssl_certificate_chain(website)\n",
        "\n",
        "    if certificate_chain:\n",
        "        print(\"Certificate chain found:\")\n",
        "        for index, cert in enumerate(certificate_chain, start=1):\n",
        "            print(f\"Certificate {index}:\")\n",
        "            print(f\"Subject: {cert.get_subject()}\")\n",
        "            print(f\"Issuer: {cert.get_issuer()}\")\n",
        "            print(\"=\" * 50)\n",
        "    else:\n",
        "        print(\"No SSL certificate chain found.\")\n"
      ]
    },
    {
      "cell_type": "markdown",
      "metadata": {
        "jp-MarkdownHeadingCollapsed": true,
        "id": "bUqx1uPgrHFB"
      },
      "source": [
        "### 1.21 SSL chain certificates do not expire within 20 days\n",
        "\n",
        "SSL intermediate and root certificates do not expire within 20 days."
      ]
    },
    {
      "cell_type": "code",
      "execution_count": null,
      "metadata": {
        "id": "11AvQ_OWrHFB",
        "colab": {
          "base_uri": "https://localhost:8080/"
        },
        "outputId": "33c71810-8f4e-41f1-8992-9edea66d03c3"
      },
      "outputs": [
        {
          "output_type": "stream",
          "name": "stdout",
          "text": [
            "An error occurred: 'Response' object has no attribute '_connection'\n",
            "Website SSL certificates are either expired or will expire within 20 days.\n"
          ]
        }
      ],
      "source": [
        "import requests\n",
        "import datetime\n",
        "from cryptography import x509\n",
        "from cryptography.hazmat.backends import default_backend\n",
        "\n",
        "def get_certificate_expiration_days(cert_data):\n",
        "    cert = x509.load_pem_x509_certificate(cert_data, default_backend())\n",
        "    expiration_date = cert.not_valid_after\n",
        "    today = datetime.datetime.utcnow()\n",
        "    days_left = (expiration_date - today).days\n",
        "    return days_left\n",
        "\n",
        "def check_certificate_expiration(url, days_threshold=20):\n",
        "    try:\n",
        "        response = requests.get(url, verify=True)\n",
        "        cert_chain = response._connection.peer_cert_chain\n",
        "        for i, cert_data in enumerate(cert_chain):\n",
        "            days_left = get_certificate_expiration_days(cert_data)\n",
        "            print(f\"Certificate {i + 1} - Expires in: {days_left} days\")\n",
        "            if days_left < days_threshold:\n",
        "                print(f\"Certificate {i + 1} will expire in less than {days_threshold} days!\")\n",
        "                return False\n",
        "        print(\"All certificates are valid and will not expire within 20 days.\")\n",
        "        return True\n",
        "    except requests.exceptions.SSLError as e:\n",
        "        print(f\"Error: {e}\")\n",
        "        return False\n",
        "    except Exception as e:\n",
        "        print(f\"An error occurred: {e}\")\n",
        "        return False\n",
        "\n",
        "if __name__ == \"__main__\":\n",
        "    website_url = ('https://'+domain) #\"https://example.com\"  # Replace with the URL of the website you want to check\n",
        "    result = check_certificate_expiration(website_url)\n",
        "    if result:\n",
        "        print(\"Website SSL certificates are valid and will not expire within 20 days.\")\n",
        "    else:\n",
        "        print(\"Website SSL certificates are either expired or will expire within 20 days.\")\n"
      ]
    },
    {
      "cell_type": "markdown",
      "metadata": {
        "editable": true,
        "jp-MarkdownHeadingCollapsed": true,
        "tags": [],
        "id": "BzRRRgY9rHFC"
      },
      "source": [
        "### 1.22 Trusted SSL certificate\n",
        "The certificate presented by this domain was issued by a trusted certificate authority."
      ]
    },
    {
      "cell_type": "code",
      "execution_count": null,
      "metadata": {
        "editable": true,
        "tags": [],
        "id": "H2aYOV5trHFC",
        "colab": {
          "base_uri": "https://localhost:8080/"
        },
        "outputId": "dfc5119d-931f-443d-c307-e2392a53e514"
      },
      "outputs": [
        {
          "output_type": "stream",
          "name": "stdout",
          "text": [
            "✅ The certificate is issued by a trusted certificate authority.\n"
          ]
        }
      ],
      "source": [
        "# Findings\n",
        "import requests\n",
        "import certifi\n",
        "\n",
        "def check_certificate_trust(url):\n",
        "    try:\n",
        "        response = requests.get(url, verify=certifi.where())\n",
        "        return response.status_code == requests.codes.ok\n",
        "    except requests.exceptions.SSLError:\n",
        "        return False\n",
        "\n",
        "# Example usage\n",
        "website = ('https://'+domain)\n",
        "is_trusted = check_certificate_trust(website)\n",
        "if is_trusted:\n",
        "    print(\"✅ The certificate is issued by a trusted certificate authority.\")\n",
        "else:\n",
        "    print(\"The certificate is not issued by a trusted certificate authority.\")"
      ]
    },
    {
      "cell_type": "markdown",
      "metadata": {
        "id": "XDPWJ6dkrHFC"
      },
      "source": [
        "### 1.23 Strong public certificate key length\n",
        "\n",
        "The site's public certificate provides at least 112 bits of security strength."
      ]
    },
    {
      "cell_type": "code",
      "execution_count": null,
      "metadata": {
        "id": "Vje5-6MArHFC",
        "colab": {
          "base_uri": "https://localhost:8080/"
        },
        "outputId": "c9df557f-c89f-4b17-c66e-9da95c0699e1"
      },
      "outputs": [
        {
          "output_type": "stream",
          "name": "stdout",
          "text": [
            "Error occurred: Unable to load PEM file. See https://cryptography.io/en/latest/faq/#why-can-t-i-import-my-pem-file for more details. MalformedFraming\n"
          ]
        }
      ],
      "source": [
        "import requests\n",
        "from cryptography import x509\n",
        "from cryptography.hazmat.backends import default_backend\n",
        "\n",
        "def check_certificate_strength(url):\n",
        "    try:\n",
        "        response = requests.get(f'https://{url}', timeout=5)\n",
        "        response.raise_for_status()  # Check for successful response\n",
        "\n",
        "        # Extract the certificate from the response\n",
        "        cert = x509.load_pem_x509_certificate(response.content, default_backend())\n",
        "\n",
        "        # Get the public key length in bits\n",
        "        key_length = cert.public_key().key_size\n",
        "\n",
        "        # Check if the key length is at least 112 bits\n",
        "        if key_length >= 112:\n",
        "            print(f\"The website {url} has a strong public certificate key length of {key_length} bits.\")\n",
        "        else:\n",
        "            print(f\"The website {url} has a weak public certificate key length of {key_length} bits. Consider improving security.\")\n",
        "\n",
        "    except requests.exceptions.RequestException as e:\n",
        "        print(f\"Error while fetching the website: {e}\")\n",
        "\n",
        "    except Exception as e:\n",
        "        print(f\"Error occurred: {e}\")\n",
        "\n",
        "if __name__ == \"__main__\":\n",
        "    website_url = domain #input(\"Enter the website URL (without 'https://'): \")\n",
        "    check_certificate_strength(website_url)\n"
      ]
    },
    {
      "cell_type": "markdown",
      "metadata": {
        "jp-MarkdownHeadingCollapsed": true,
        "id": "KDlHJ7t4rHFC"
      },
      "source": [
        "### 1.24 SSL available\n",
        "\n",
        "SSL is supported for this site."
      ]
    },
    {
      "cell_type": "code",
      "execution_count": null,
      "metadata": {
        "id": "tpw1eOzNrHFC",
        "colab": {
          "base_uri": "https://localhost:8080/"
        },
        "outputId": "8d5fbfd2-3c23-4aa1-d5c6-a0ee2a9dc855"
      },
      "outputs": [
        {
          "output_type": "stream",
          "name": "stdout",
          "text": [
            "Error: Invalid URL 'midlandinsurance.com.au': No scheme supplied. Perhaps you meant https://midlandinsurance.com.au?\n"
          ]
        }
      ],
      "source": [
        "import requests\n",
        "\n",
        "def check_ssl_availability(url):\n",
        "    try:\n",
        "        response = requests.get(url)\n",
        "        response.raise_for_status()  # Check for any HTTP errors\n",
        "        if response.url.startswith('https'):\n",
        "            return True, \"SSL certificate is available.\"\n",
        "        else:\n",
        "            return False, \"No SSL certificate detected. The URL does not start with 'https'.\"\n",
        "    except requests.exceptions.RequestException as e:\n",
        "        return False, f\"Error: {e}\"\n",
        "\n",
        "if __name__ == \"__main__\":\n",
        "    website_url = domain #input(\"Enter the website URL: \")\n",
        "    ssl_available, message = check_ssl_availability(website_url)\n",
        "    print(message)\n"
      ]
    },
    {
      "cell_type": "markdown",
      "metadata": {
        "editable": true,
        "jp-MarkdownHeadingCollapsed": true,
        "tags": [],
        "id": "bdG6PnPmrHFC"
      },
      "source": [
        "### 1.25 HTTP requests are redirected to HTTPS\n",
        "\n",
        "All HTTP requests are redirected to HTTPS."
      ]
    },
    {
      "cell_type": "code",
      "execution_count": null,
      "metadata": {
        "editable": true,
        "tags": [],
        "id": "HPSdg-09rHFC",
        "colab": {
          "base_uri": "https://localhost:8080/"
        },
        "outputId": "b6d6c867-749d-4521-921a-e90315594c9f"
      },
      "outputs": [
        {
          "output_type": "stream",
          "name": "stdout",
          "text": [
            "✅ The website 'http://midlandinsurance.com.au' redirects to HTTPS.\n"
          ]
        }
      ],
      "source": [
        "# Findings\n",
        "import requests\n",
        "\n",
        "def check_redirect_to_https(url):\n",
        "    try:\n",
        "        response = requests.get(url, allow_redirects=False)\n",
        "        if response.status_code == 301 or response.status_code == 302:\n",
        "            redirect_url = response.headers.get('Location')\n",
        "            if redirect_url.startswith('https://'):\n",
        "                print(f\"✅ The website '{url}' redirects to HTTPS.\")\n",
        "            else:\n",
        "                print(f\"The website '{url}' does not redirect to HTTPS.\")\n",
        "        else:\n",
        "            print(f\"The website '{url}' does not redirect to HTTPS.\")\n",
        "    except requests.exceptions.RequestException as e:\n",
        "        print(f\"An error occurred: {e}\")\n",
        "\n",
        "# Example usage:\n",
        "check_redirect_to_https('http://'+domain)"
      ]
    },
    {
      "cell_type": "markdown",
      "metadata": {
        "jp-MarkdownHeadingCollapsed": true,
        "id": "Ddkuy387rHFC"
      },
      "source": [
        "### 1.26 X-Powered-By header not exposed\n",
        "\n",
        "Information about specific technology used on the server is obscured."
      ]
    },
    {
      "cell_type": "code",
      "execution_count": null,
      "metadata": {
        "id": "k_SYBc_8rHFC",
        "colab": {
          "base_uri": "https://localhost:8080/"
        },
        "outputId": "6a7ffeb1-826e-4862-c3ce-c91ed5052fd4"
      },
      "outputs": [
        {
          "output_type": "stream",
          "name": "stdout",
          "text": [
            "The website has the X-Powered-By header exposed.\n"
          ]
        }
      ],
      "source": [
        "import requests\n",
        "\n",
        "def check_x_powered_by_header(url):\n",
        "    try:\n",
        "        response = requests.get(url)\n",
        "        if 'X-Powered-By' in response.headers:\n",
        "            return True\n",
        "        else:\n",
        "            return False\n",
        "    except requests.exceptions.RequestException as e:\n",
        "        print(f\"Error: {e}\")\n",
        "        return None\n",
        "\n",
        "if __name__ == \"__main__\":\n",
        "    website_url = ('https://'+domain) #input(\"Enter the URL of the website to check for X-Powered-By header: \")\n",
        "    has_x_powered_by = check_x_powered_by_header(website_url)\n",
        "    if has_x_powered_by is None:\n",
        "        print(\"An error occurred while trying to fetch the website.\")\n",
        "    elif has_x_powered_by:\n",
        "        print(\"The website has the X-Powered-By header exposed.\")\n",
        "    else:\n",
        "        print(\"The website does not have the X-Powered-By header exposed.\")\n"
      ]
    },
    {
      "cell_type": "markdown",
      "metadata": {
        "jp-MarkdownHeadingCollapsed": true,
        "id": "3bpePhzKrHFC"
      },
      "source": [
        "### 1.27 HSTS header contains includeSubDomains\n",
        "\n",
        "The HTTP Strict Transport Security (HSTS) header contains the includeSubDomains directive."
      ]
    },
    {
      "cell_type": "code",
      "execution_count": null,
      "metadata": {
        "id": "InP4IBIHrHFD",
        "colab": {
          "base_uri": "https://localhost:8080/"
        },
        "outputId": "0248f767-f588-48f1-e6af-3fb665a708ad"
      },
      "outputs": [
        {
          "output_type": "stream",
          "name": "stdout",
          "text": [
            "The website's HSTS header does not contain 'includeSubDomains' directive.\n"
          ]
        }
      ],
      "source": [
        "import requests\n",
        "\n",
        "def check_hsts_include_subdomains(url):\n",
        "    try:\n",
        "        response = requests.head(url)\n",
        "        hsts_header = response.headers.get('Strict-Transport-Security', '')\n",
        "\n",
        "        if 'includeSubDomains' in hsts_header:\n",
        "            return True\n",
        "        else:\n",
        "            return False\n",
        "\n",
        "    except requests.exceptions.RequestException:\n",
        "        print(\"Error: Unable to connect to the website.\")\n",
        "        return False\n",
        "\n",
        "if __name__ == \"__main__\":\n",
        "    website_url = ('https://'+domain) #input(\"Enter the URL of the website: \")\n",
        "    has_include_subdomains = check_hsts_include_subdomains(website_url)\n",
        "\n",
        "    if has_include_subdomains:\n",
        "        print(\"The website's HSTS header contains 'includeSubDomains' directive.\")\n",
        "    else:\n",
        "        print(\"The website's HSTS header does not contain 'includeSubDomains' directive.\")\n"
      ]
    },
    {
      "cell_type": "markdown",
      "metadata": {
        "jp-MarkdownHeadingCollapsed": true,
        "id": "BqjAL7XFrHFD"
      },
      "source": [
        "### 1.28 ASP.NET version header not exposed\n",
        "\n",
        "Ensuring the ASP.NET version header is not exposed makes it harder for attackers to exploit certain vulnerabilities."
      ]
    },
    {
      "cell_type": "code",
      "execution_count": null,
      "metadata": {
        "id": "s6vfXJuDrHFD",
        "colab": {
          "base_uri": "https://localhost:8080/"
        },
        "outputId": "e63fffb6-77f6-4920-f415-d01a7309dba8"
      },
      "outputs": [
        {
          "output_type": "stream",
          "name": "stdout",
          "text": [
            "The website does not expose the ASP.NET version header.\n"
          ]
        }
      ],
      "source": [
        "import requests\n",
        "\n",
        "def check_asp_dotnet_version(url):\n",
        "    try:\n",
        "        response = requests.get(url)\n",
        "        asp_dotnet_version = response.headers.get('X-AspNet-Version')\n",
        "        if asp_dotnet_version:\n",
        "            return f\"The website exposes ASP.NET version: {asp_dotnet_version}\"\n",
        "        else:\n",
        "            return \"The website does not expose the ASP.NET version header.\"\n",
        "    except requests.exceptions.RequestException as e:\n",
        "        return f\"Error occurred: {e}\"\n",
        "\n",
        "if __name__ == \"__main__\":\n",
        "    website_url = ('https://'+domain) #input(\"Enter the website URL: \")\n",
        "    result = check_asp_dotnet_version(website_url)\n",
        "    print(result)\n"
      ]
    },
    {
      "cell_type": "markdown",
      "metadata": {
        "editable": true,
        "tags": [],
        "id": "Hb3TlLQfrHFD"
      },
      "source": [
        "### 1.29 ASP.NET version header not exposing specific ASP.net version\n",
        "Ensuring the ASP.NET version header is not exposing a specific version makes it harder for attackers to exploit certain vulnerabilities."
      ]
    },
    {
      "cell_type": "code",
      "execution_count": null,
      "metadata": {
        "editable": true,
        "jupyter": {
          "source_hidden": true
        },
        "tags": [],
        "id": "nCOAYWh5rHFD",
        "colab": {
          "base_uri": "https://localhost:8080/"
        },
        "outputId": "9c4e9268-44b5-43ba-ec26-2a01c3ef0298"
      },
      "outputs": [
        {
          "output_type": "stream",
          "name": "stdout",
          "text": [
            "❌ The website is not using ASP.NET or does not have an ASP.NET version header.\n"
          ]
        }
      ],
      "source": [
        "# Findings\n",
        "import requests\n",
        "\n",
        "def check_aspnet_version_exposure(url, target_version):\n",
        "    try:\n",
        "        response = requests.get(url)\n",
        "        version_header = response.headers.get('X-AspNet-Version')\n",
        "        if version_header:\n",
        "            if target_version in version_header:\n",
        "                print(f\"The website is exposing the ASP.NET version: {version_header}\")\n",
        "                print(\"This version may be vulnerable to attacks.\")\n",
        "            else:\n",
        "                print(f\"The website is using ASP.NET, but not exposing the specified version.\")\n",
        "                print(f\"The ASP.NET version header: {version_header}\")\n",
        "        else:\n",
        "            print(\"❌ The website is not using ASP.NET or does not have an ASP.NET version header.\")\n",
        "    except requests.exceptions.RequestException as e:\n",
        "        print(f\"An error occurred: {e}\")\n",
        "\n",
        "# Usage example\n",
        "url = ('https://'+domain)\n",
        "target_version = '4.7.2'\n",
        "check_aspnet_version_exposure(url, target_version)"
      ]
    },
    {
      "cell_type": "markdown",
      "metadata": {
        "jp-MarkdownHeadingCollapsed": true,
        "id": "mCuL_wlXrHFD"
      },
      "source": [
        "### 1.30 Secure cookies used\n",
        "\n",
        "Using secure cookies reduces the risk of third parties intercepting information contained in these cookies."
      ]
    },
    {
      "cell_type": "code",
      "execution_count": null,
      "metadata": {
        "id": "vEzADJicrHFD",
        "colab": {
          "base_uri": "https://localhost:8080/"
        },
        "outputId": "b9c9c4f7-83e9-4274-9a0f-0491df3a4819"
      },
      "outputs": [
        {
          "output_type": "stream",
          "name": "stdout",
          "text": [
            "The website is not using secure cookies.\n"
          ]
        }
      ],
      "source": [
        "import requests\n",
        "\n",
        "def check_secure_cookies(url):\n",
        "    try:\n",
        "        response = requests.get(url)\n",
        "        cookies = response.cookies\n",
        "        secure_cookies = [cookie for cookie in cookies if cookie.secure]\n",
        "\n",
        "        if secure_cookies:\n",
        "            print(\"The website is using secure cookies.\")\n",
        "        else:\n",
        "            print(\"The website is not using secure cookies.\")\n",
        "\n",
        "    except requests.exceptions.RequestException as e:\n",
        "        print(\"An error occurred:\", str(e))\n",
        "\n",
        "# Example usage\n",
        "website_url = \"https://example.com\"\n",
        "check_secure_cookies(website_url)"
      ]
    },
    {
      "cell_type": "markdown",
      "metadata": {
        "jp-MarkdownHeadingCollapsed": true,
        "id": "yD6HUiW8rHFD"
      },
      "source": [
        "### 1.31 Server information header not exposed\n",
        "\n",
        "Ensuring the server information header is not exposed reduces the ability of attackers to exploit certain vulnerabilities."
      ]
    },
    {
      "cell_type": "code",
      "execution_count": null,
      "metadata": {
        "id": "aRQq6sJ3rHFD",
        "colab": {
          "base_uri": "https://localhost:8080/"
        },
        "outputId": "ee5de1d5-d076-4853-b1cb-d63fb3b9b309"
      },
      "outputs": [
        {
          "output_type": "stream",
          "name": "stdout",
          "text": [
            "The server information is exposed: nginx\n"
          ]
        }
      ],
      "source": [
        "import requests\n",
        "\n",
        "def check_server_info_exposed(url):\n",
        "    try:\n",
        "        response = requests.get(url)\n",
        "        server_header = response.headers.get('Server')\n",
        "\n",
        "        if server_header:\n",
        "            print(f\"The server information is exposed: {server_header}\")\n",
        "        else:\n",
        "            print(\"The server information is not exposed.\")\n",
        "    except requests.exceptions.RequestException as e:\n",
        "        print(f\"Error occurred: {e}\")\n",
        "\n",
        "if __name__ == \"__main__\":\n",
        "    website_url = ('https://'+domain) #input(\"Enter the website URL to check server information: \")\n",
        "    check_server_info_exposed(website_url)\n"
      ]
    },
    {
      "cell_type": "markdown",
      "metadata": {
        "jp-MarkdownHeadingCollapsed": true,
        "id": "MNc-y95BrHFD"
      },
      "source": [
        "### 1.32 Referrer Policy is not unsafe-url\n",
        "\n",
        "The website's Referrer Policy is not configured to allow unsafe information to be sent in the referrer header."
      ]
    },
    {
      "cell_type": "code",
      "execution_count": null,
      "metadata": {
        "id": "AI_2fiGIrHFD",
        "colab": {
          "base_uri": "https://localhost:8080/"
        },
        "outputId": "58720b01-f2af-4ace-c346-3d8d97fc613f"
      },
      "outputs": [
        {
          "output_type": "stream",
          "name": "stdout",
          "text": [
            "No Referrer Policy found for https://midlandinsurance.com.au.\n"
          ]
        }
      ],
      "source": [
        "import requests\n",
        "\n",
        "def check_referrer_policy(url):\n",
        "    try:\n",
        "        response = requests.head(url)\n",
        "        referrer_policy = response.headers.get(\"Referrer-Policy\")\n",
        "        if referrer_policy:\n",
        "            if \"unsafe-url\" in referrer_policy.lower():\n",
        "                print(f\"The Referrer Policy of {url} allows unsafe information to be sent.\")\n",
        "            else:\n",
        "                print(f\"The Referrer Policy of {url} does not allow unsafe information.\")\n",
        "        else:\n",
        "            print(f\"No Referrer Policy found for {url}.\")\n",
        "    except requests.exceptions.RequestException as e:\n",
        "        print(f\"Error occurred while fetching headers for {url}: {e}\")\n",
        "\n",
        "if __name__ == \"__main__\":\n",
        "    website_url = ('https://'+domain) #input(\"Enter the website URL: \")\n",
        "    check_referrer_policy(website_url)\n"
      ]
    },
    {
      "cell_type": "markdown",
      "metadata": {
        "jp-MarkdownHeadingCollapsed": true,
        "id": "GnQDsHdNrHFE"
      },
      "source": [
        "### 1.33 Domain index is not a listable directory\n",
        "\n",
        "The domain index is not a listable directory."
      ]
    },
    {
      "cell_type": "code",
      "execution_count": null,
      "metadata": {
        "id": "-0gkQTpNrHFE",
        "colab": {
          "base_uri": "https://localhost:8080/"
        },
        "outputId": "4d4b847d-6a44-41e5-afbc-16275361a3fa"
      },
      "outputs": [
        {
          "output_type": "stream",
          "name": "stdout",
          "text": [
            "The website's Domain index is not listable or couldn't be accessed.\n"
          ]
        }
      ],
      "source": [
        "import requests\n",
        "\n",
        "def is_directory_listable(url):\n",
        "    try:\n",
        "        response = requests.get(url, allow_redirects=True)\n",
        "        if response.status_code == 200:\n",
        "            # Check if the response content suggests directory listing is enabled\n",
        "            content = response.text\n",
        "            if \"Index of\" in content and \"Parent Directory\" in content:\n",
        "                return True\n",
        "            return False\n",
        "        elif response.status_code == 403:\n",
        "            return False\n",
        "        else:\n",
        "            print(f\"Unexpected status code: {response.status_code}\")\n",
        "            return False\n",
        "    except requests.exceptions.RequestException as e:\n",
        "        print(f\"Error: {e}\")\n",
        "        return False\n",
        "\n",
        "if __name__ == \"__main__\":\n",
        "    url_to_check = ('https://'+domain) #input(\"Enter the website URL to check: \")\n",
        "    result = is_directory_listable(url_to_check)\n",
        "    if result:\n",
        "        print(\"The website's Domain index is listable.\")\n",
        "    else:\n",
        "        print(\"The website's Domain index is not listable or couldn't be accessed.\")\n"
      ]
    },
    {
      "cell_type": "markdown",
      "metadata": {
        "jp-MarkdownHeadingCollapsed": true,
        "id": "JCNSDviVrHFE"
      },
      "source": [
        "### 1.34 No unmaintained page detected\n",
        "\n",
        "The page appears to be maintained."
      ]
    },
    {
      "cell_type": "code",
      "execution_count": null,
      "metadata": {
        "id": "sOyCo0DMrHFE",
        "colab": {
          "base_uri": "https://localhost:8080/"
        },
        "outputId": "353f0c96-6a7e-4abc-dc02-8e3d1a3435af"
      },
      "outputs": [
        {
          "output_type": "stream",
          "name": "stdout",
          "text": [
            "The website's homepage is maintained.\n"
          ]
        }
      ],
      "source": [
        "import requests\n",
        "from bs4 import BeautifulSoup\n",
        "from datetime import datetime\n",
        "\n",
        "def is_website_maintained(url):\n",
        "    try:\n",
        "        # Check HTTP status code\n",
        "        response = requests.get(url)\n",
        "        if response.status_code != 200:\n",
        "            return False\n",
        "\n",
        "        # Parse the webpage\n",
        "        soup = BeautifulSoup(response.text, 'html.parser')\n",
        "\n",
        "        # Check for the presence of certain keywords that might indicate maintenance\n",
        "        keywords = ['update', 'maintain', 'latest news', 'latest updates']\n",
        "        for keyword in keywords:\n",
        "            if keyword.lower() in soup.get_text().lower():\n",
        "                return True\n",
        "\n",
        "        # Check for the last-modified date if available\n",
        "        last_modified = response.headers.get('Last-Modified')\n",
        "        if last_modified:\n",
        "            last_modified_date = datetime.strptime(last_modified, '%a, %d %b %Y %H:%M:%S %Z')\n",
        "            time_difference = datetime.now() - last_modified_date\n",
        "            if time_difference.days <= 90:  # Considered maintained if last modified within the last 90 days\n",
        "                return True\n",
        "\n",
        "        return False\n",
        "    except requests.exceptions.RequestException:\n",
        "        return False\n",
        "\n",
        "if __name__ == \"__main__\":\n",
        "    url = ('https://'+domain) #input(\"Enter the website URL: \")\n",
        "    is_maintained = is_website_maintained(url)\n",
        "    if is_maintained:\n",
        "        print(\"The website's homepage is maintained.\")\n",
        "    else:\n",
        "        print(\"The website's homepage is unmaintained.\")\n"
      ]
    },
    {
      "cell_type": "markdown",
      "metadata": {
        "jp-MarkdownHeadingCollapsed": true,
        "id": "M0nQVstQrHFE"
      },
      "source": [
        "### 1.35 No open cloud storage service detected\n",
        "\n",
        "No cloud storage service configured to allow anonymous file listing was detected."
      ]
    },
    {
      "cell_type": "code",
      "execution_count": null,
      "metadata": {
        "id": "Huy4cRAqrHFE",
        "colab": {
          "base_uri": "https://localhost:8080/"
        },
        "outputId": "3f2487a2-c920-4f54-dc86-94acb14f52f8"
      },
      "outputs": [
        {
          "output_type": "stream",
          "name": "stdout",
          "text": [
            "No open cloud storage service detected on the website.\n"
          ]
        }
      ],
      "source": [
        "import requests\n",
        "from bs4 import BeautifulSoup\n",
        "\n",
        "# Function to check if a URL points to a cloud storage service\n",
        "def is_cloud_storage(url):\n",
        "    cloud_storage_keywords = [\"amazonaws.com\", \"s3.\", \"cloudfront.net\", \"googleapis.com\", \"cloud.google.com\", \"dropbox.com\"]\n",
        "    for keyword in cloud_storage_keywords:\n",
        "        if keyword in url:\n",
        "            return True\n",
        "    return False\n",
        "\n",
        "# Function to check if the website contains open cloud storage services\n",
        "def check_website_for_cloud_storage(website_url):\n",
        "    try:\n",
        "        response = requests.get(website_url)\n",
        "        if response.status_code == 200:\n",
        "            soup = BeautifulSoup(response.text, 'html.parser')\n",
        "            links = soup.find_all('a', href=True)\n",
        "            cloud_storage_detected = False\n",
        "\n",
        "            for link in links:\n",
        "                if is_cloud_storage(link['href']):\n",
        "                    print(f\"Cloud storage service detected: {link['href']}\")\n",
        "                    cloud_storage_detected = True\n",
        "\n",
        "            if not cloud_storage_detected:\n",
        "                print(\"No open cloud storage service detected on the website.\")\n",
        "        else:\n",
        "            print(f\"Failed to access the website. Status code: {response.status_code}\")\n",
        "    except requests.exceptions.RequestException as e:\n",
        "        print(f\"Error occurred while accessing the website: {e}\")\n",
        "\n",
        "if __name__ == \"__main__\":\n",
        "    website_url = ('https://'+domain) #input(\"Enter the website URL to check for cloud storage services: \")\n",
        "    check_website_for_cloud_storage(website_url)\n"
      ]
    },
    {
      "cell_type": "markdown",
      "metadata": {
        "editable": true,
        "jp-MarkdownHeadingCollapsed": true,
        "tags": [],
        "id": "l24nXvHmrHFE"
      },
      "source": [
        "## Analytics Used"
      ]
    },
    {
      "cell_type": "markdown",
      "metadata": {
        "editable": true,
        "tags": [],
        "id": "oKHy9Kc_rHFE"
      },
      "source": [
        "Check whether analytics is used"
      ]
    },
    {
      "cell_type": "code",
      "execution_count": null,
      "metadata": {
        "editable": true,
        "tags": [],
        "id": "_a9K3WrgrHFE",
        "colab": {
          "base_uri": "https://localhost:8080/"
        },
        "outputId": "3629fc64-5261-4b30-9028-8f76c3fcc9dc"
      },
      "outputs": [
        {
          "output_type": "stream",
          "name": "stdout",
          "text": [
            "An error occurred while accessing https://phishbate.com\n",
            "❌ Analytics software does not appear to be installed on the website.\n"
          ]
        }
      ],
      "source": [
        "# Findings\n",
        "import requests\n",
        "\n",
        "def check_analytics(url):\n",
        "    try:\n",
        "        response = requests.get(url)\n",
        "        response.raise_for_status()\n",
        "\n",
        "        analytics_codes = [\n",
        "            \"ga('create',\",  # Google Analytics\n",
        "            \"fbq('init',\",   # Facebook Pixel\n",
        "            \"_paq.push(['trackPageView']);\",  # Matomo\n",
        "            \"twttr.conversion\",  # Twitter Ads\n",
        "            \"LinkedInInsight\",  # LinkedIn Insights\n",
        "            \"Amplitude.init\",   # Amplitude\n",
        "        ]\n",
        "\n",
        "        for code in analytics_codes:\n",
        "            if code in response.text:\n",
        "                return True\n",
        "\n",
        "        return False\n",
        "\n",
        "    except requests.exceptions.RequestException:\n",
        "        print(f\"An error occurred while accessing {url}\")\n",
        "        return False\n",
        "\n",
        "# Example usage\n",
        "website_url = (\"https://\"+domain)  # Replace with the website URL you want to check\n",
        "has_analytics = check_analytics(website_url)\n",
        "\n",
        "if has_analytics:\n",
        "    print(\"✅ Analytics software is installed on the website.\")\n",
        "else:\n",
        "    print(\"❌ Analytics software does not appear to be installed on the website.\")\n"
      ]
    },
    {
      "cell_type": "markdown",
      "metadata": {
        "editable": true,
        "tags": [],
        "id": "bse7Qu2ArHFE"
      },
      "source": [
        "## 2. Email Security"
      ]
    },
    {
      "cell_type": "markdown",
      "metadata": {
        "jp-MarkdownHeadingCollapsed": true,
        "id": "aJYDUGTJrHFE"
      },
      "source": [
        "### 2.1 SPF syntax correct\n",
        "\n",
        "Sender Policy Framework (SPF) record passes basic syntax checks."
      ]
    },
    {
      "cell_type": "code",
      "source": [
        "import dns.resolver\n",
        "import re\n",
        "\n",
        "def check_spf(domain):\n",
        "    # Convert domain to bytes if it's a string\n",
        "    if isinstance(domain, str):\n",
        "        domain = domain.encode('utf-8')\n",
        "\n",
        "    # SPF Record Published\n",
        "    try:\n",
        "        spf_records = dns.resolver.resolve(domain, 'TXT')\n",
        "        published = any(b'v=spf1' in record.strings for record in spf_records)\n",
        "        print(\"SPF Record Published: ✅\" if published else \"SPF Record Published: ❌\")\n",
        "    except dns.resolver.NoAnswer:\n",
        "        print(\"SPF Record Published: ❌\")\n",
        "\n",
        "    # SPF Record Deprecated\n",
        "    deprecated = False\n",
        "    for record in spf_records:\n",
        "        if b'v=spf1' not in record.strings[0]:\n",
        "            deprecated = True\n",
        "            break\n",
        "    print(\"SPF Record Deprecated: ✅\" if deprecated else \"SPF Record Deprecated: ❌\")\n",
        "\n",
        "    # SPF Multiple Records\n",
        "    print(\"SPF Multiple Records: ✅\" if len(spf_records) > 1 else \"SPF Multiple Records: ❌\")\n",
        "\n",
        "    # SPF Contains characters after ALL\n",
        "    contains_all = any(re.search(b'\\s+all\\s+', record.strings[0]) for record in spf_records)\n",
        "    print(\"SPF Contains characters after ALL: ✅\" if contains_all else \"SPF Contains characters after ALL: ❌\")\n",
        "\n",
        "    # SPF Syntax Check\n",
        "    syntax_check = all(re.match(b'^v=spf1 .*$', record.strings[0]) for record in spf_records)\n",
        "    print(\"SPF Syntax Check: ✅\" if syntax_check else \"SPF Syntax Check: ❌\")\n",
        "\n",
        "    # SPF Included Lookups\n",
        "    included_lookups = any(re.search(b'include:[^\\s]+', record.strings[0]) for record in spf_records)\n",
        "    print(\"SPF Included Lookups: ✅\" if included_lookups else \"SPF Included Lookups: ❌\")\n",
        "\n",
        "    # SPF Type PTR Check\n",
        "    ptr_check = any(re.search(b'ptr', record.strings[0]) for record in spf_records)\n",
        "    print(\"SPF Type PTR Check: ✅\" if ptr_check else \"SPF Type PTR Check: ❌\")\n",
        "\n",
        "    # SPF Void Lookups\n",
        "    void_lookups = any(re.search(b'void:', record.strings[0]) for record in spf_records)\n",
        "    print(\"SPF Void Lookups: ✅\" if void_lookups else \"SPF Void Lookups: ❌\")\n",
        "\n",
        "    # SPF MX Resource Records\n",
        "    mx_records = dns.resolver.resolve(domain, 'MX')\n",
        "    mx_resource_records = any(b'mx' in record.strings[0].lower() for record in mx_records)\n",
        "    print(\"SPF MX Resource Records: ✅\" if mx_resource_records else \"SPF MX Resource Records: ❌\")\n",
        "\n",
        "    # SPF Record Null Value\n",
        "    null_value = any(re.search(b'\\s+\\s', record.strings[0]) for record in spf_records)\n",
        "    print(\"SPF Record Null Value: ✅\" if not null_value else \"SPF Record Null Value: ❌\")\n",
        "\n",
        "# Example usage\n",
        "#domain = 'example.com'\n",
        "check_spf(domain)\n"
      ],
      "metadata": {
        "colab": {
          "base_uri": "https://localhost:8080/",
          "height": 329
        },
        "id": "5vT27n1e2jF4",
        "outputId": "cc468274-1449-4f9e-b7e2-65fa0611311f"
      },
      "execution_count": null,
      "outputs": [
        {
          "output_type": "error",
          "ename": "AttributeError",
          "evalue": "'bytes' object has no attribute 'is_absolute'",
          "traceback": [
            "\u001b[0;31m---------------------------------------------------------------------------\u001b[0m",
            "\u001b[0;31mAttributeError\u001b[0m                            Traceback (most recent call last)",
            "\u001b[0;32m<ipython-input-41-709e8aa11ba9>\u001b[0m in \u001b[0;36m<cell line: 59>\u001b[0;34m()\u001b[0m\n\u001b[1;32m     57\u001b[0m \u001b[0;31m# Example usage\u001b[0m\u001b[0;34m\u001b[0m\u001b[0;34m\u001b[0m\u001b[0m\n\u001b[1;32m     58\u001b[0m \u001b[0;31m#domain = 'example.com'\u001b[0m\u001b[0;34m\u001b[0m\u001b[0;34m\u001b[0m\u001b[0m\n\u001b[0;32m---> 59\u001b[0;31m \u001b[0mcheck_spf\u001b[0m\u001b[0;34m(\u001b[0m\u001b[0mdomain\u001b[0m\u001b[0;34m)\u001b[0m\u001b[0;34m\u001b[0m\u001b[0;34m\u001b[0m\u001b[0m\n\u001b[0m",
            "\u001b[0;32m<ipython-input-41-709e8aa11ba9>\u001b[0m in \u001b[0;36mcheck_spf\u001b[0;34m(domain)\u001b[0m\n\u001b[1;32m      9\u001b[0m     \u001b[0;31m# SPF Record Published\u001b[0m\u001b[0;34m\u001b[0m\u001b[0;34m\u001b[0m\u001b[0m\n\u001b[1;32m     10\u001b[0m     \u001b[0;32mtry\u001b[0m\u001b[0;34m:\u001b[0m\u001b[0;34m\u001b[0m\u001b[0;34m\u001b[0m\u001b[0m\n\u001b[0;32m---> 11\u001b[0;31m         \u001b[0mspf_records\u001b[0m \u001b[0;34m=\u001b[0m \u001b[0mdns\u001b[0m\u001b[0;34m.\u001b[0m\u001b[0mresolver\u001b[0m\u001b[0;34m.\u001b[0m\u001b[0mresolve\u001b[0m\u001b[0;34m(\u001b[0m\u001b[0mdomain\u001b[0m\u001b[0;34m,\u001b[0m \u001b[0;34m'TXT'\u001b[0m\u001b[0;34m)\u001b[0m\u001b[0;34m\u001b[0m\u001b[0;34m\u001b[0m\u001b[0m\n\u001b[0m\u001b[1;32m     12\u001b[0m         \u001b[0mpublished\u001b[0m \u001b[0;34m=\u001b[0m \u001b[0many\u001b[0m\u001b[0;34m(\u001b[0m\u001b[0;34mb'v=spf1'\u001b[0m \u001b[0;32min\u001b[0m \u001b[0mrecord\u001b[0m\u001b[0;34m.\u001b[0m\u001b[0mstrings\u001b[0m \u001b[0;32mfor\u001b[0m \u001b[0mrecord\u001b[0m \u001b[0;32min\u001b[0m \u001b[0mspf_records\u001b[0m\u001b[0;34m)\u001b[0m\u001b[0;34m\u001b[0m\u001b[0;34m\u001b[0m\u001b[0m\n\u001b[1;32m     13\u001b[0m         \u001b[0mprint\u001b[0m\u001b[0;34m(\u001b[0m\u001b[0;34m\"SPF Record Published: ✅\"\u001b[0m \u001b[0;32mif\u001b[0m \u001b[0mpublished\u001b[0m \u001b[0;32melse\u001b[0m \u001b[0;34m\"SPF Record Published: ❌\"\u001b[0m\u001b[0;34m)\u001b[0m\u001b[0;34m\u001b[0m\u001b[0;34m\u001b[0m\u001b[0m\n",
            "\u001b[0;32m/usr/local/lib/python3.10/dist-packages/dns/resolver.py\u001b[0m in \u001b[0;36mresolve\u001b[0;34m(qname, rdtype, rdclass, tcp, source, raise_on_no_answer, source_port, lifetime, search)\u001b[0m\n\u001b[1;32m   1563\u001b[0m     \"\"\"\n\u001b[1;32m   1564\u001b[0m \u001b[0;34m\u001b[0m\u001b[0m\n\u001b[0;32m-> 1565\u001b[0;31m     return get_default_resolver().resolve(\n\u001b[0m\u001b[1;32m   1566\u001b[0m         \u001b[0mqname\u001b[0m\u001b[0;34m,\u001b[0m\u001b[0;34m\u001b[0m\u001b[0;34m\u001b[0m\u001b[0m\n\u001b[1;32m   1567\u001b[0m         \u001b[0mrdtype\u001b[0m\u001b[0;34m,\u001b[0m\u001b[0;34m\u001b[0m\u001b[0;34m\u001b[0m\u001b[0m\n",
            "\u001b[0;32m/usr/local/lib/python3.10/dist-packages/dns/resolver.py\u001b[0m in \u001b[0;36mresolve\u001b[0;34m(self, qname, rdtype, rdclass, tcp, source, raise_on_no_answer, source_port, lifetime, search)\u001b[0m\n\u001b[1;32m   1300\u001b[0m         \"\"\"\n\u001b[1;32m   1301\u001b[0m \u001b[0;34m\u001b[0m\u001b[0m\n\u001b[0;32m-> 1302\u001b[0;31m         resolution = _Resolution(\n\u001b[0m\u001b[1;32m   1303\u001b[0m             \u001b[0mself\u001b[0m\u001b[0;34m,\u001b[0m \u001b[0mqname\u001b[0m\u001b[0;34m,\u001b[0m \u001b[0mrdtype\u001b[0m\u001b[0;34m,\u001b[0m \u001b[0mrdclass\u001b[0m\u001b[0;34m,\u001b[0m \u001b[0mtcp\u001b[0m\u001b[0;34m,\u001b[0m \u001b[0mraise_on_no_answer\u001b[0m\u001b[0;34m,\u001b[0m \u001b[0msearch\u001b[0m\u001b[0;34m\u001b[0m\u001b[0;34m\u001b[0m\u001b[0m\n\u001b[1;32m   1304\u001b[0m         )\n",
            "\u001b[0;32m/usr/local/lib/python3.10/dist-packages/dns/resolver.py\u001b[0m in \u001b[0;36m__init__\u001b[0;34m(self, resolver, qname, rdtype, rdclass, tcp, raise_on_no_answer, search)\u001b[0m\n\u001b[1;32m    656\u001b[0m             \u001b[0;32mraise\u001b[0m \u001b[0mNoMetaqueries\u001b[0m\u001b[0;34m\u001b[0m\u001b[0;34m\u001b[0m\u001b[0m\n\u001b[1;32m    657\u001b[0m         \u001b[0mself\u001b[0m\u001b[0;34m.\u001b[0m\u001b[0mresolver\u001b[0m \u001b[0;34m=\u001b[0m \u001b[0mresolver\u001b[0m\u001b[0;34m\u001b[0m\u001b[0;34m\u001b[0m\u001b[0m\n\u001b[0;32m--> 658\u001b[0;31m         \u001b[0mself\u001b[0m\u001b[0;34m.\u001b[0m\u001b[0mqnames_to_try\u001b[0m \u001b[0;34m=\u001b[0m \u001b[0mresolver\u001b[0m\u001b[0;34m.\u001b[0m\u001b[0m_get_qnames_to_try\u001b[0m\u001b[0;34m(\u001b[0m\u001b[0mqname\u001b[0m\u001b[0;34m,\u001b[0m \u001b[0msearch\u001b[0m\u001b[0;34m)\u001b[0m\u001b[0;34m\u001b[0m\u001b[0;34m\u001b[0m\u001b[0m\n\u001b[0m\u001b[1;32m    659\u001b[0m         \u001b[0mself\u001b[0m\u001b[0;34m.\u001b[0m\u001b[0mqnames\u001b[0m \u001b[0;34m=\u001b[0m \u001b[0mself\u001b[0m\u001b[0;34m.\u001b[0m\u001b[0mqnames_to_try\u001b[0m\u001b[0;34m[\u001b[0m\u001b[0;34m:\u001b[0m\u001b[0;34m]\u001b[0m\u001b[0;34m\u001b[0m\u001b[0;34m\u001b[0m\u001b[0m\n\u001b[1;32m    660\u001b[0m         \u001b[0mself\u001b[0m\u001b[0;34m.\u001b[0m\u001b[0mrdtype\u001b[0m \u001b[0;34m=\u001b[0m \u001b[0mrdtype\u001b[0m\u001b[0;34m\u001b[0m\u001b[0;34m\u001b[0m\u001b[0m\n",
            "\u001b[0;32m/usr/local/lib/python3.10/dist-packages/dns/resolver.py\u001b[0m in \u001b[0;36m_get_qnames_to_try\u001b[0;34m(self, qname, search)\u001b[0m\n\u001b[1;32m   1084\u001b[0m             \u001b[0msearch\u001b[0m \u001b[0;34m=\u001b[0m \u001b[0mself\u001b[0m\u001b[0;34m.\u001b[0m\u001b[0muse_search_by_default\u001b[0m\u001b[0;34m\u001b[0m\u001b[0;34m\u001b[0m\u001b[0m\n\u001b[1;32m   1085\u001b[0m         \u001b[0mqnames_to_try\u001b[0m \u001b[0;34m=\u001b[0m \u001b[0;34m[\u001b[0m\u001b[0;34m]\u001b[0m\u001b[0;34m\u001b[0m\u001b[0;34m\u001b[0m\u001b[0m\n\u001b[0;32m-> 1086\u001b[0;31m         \u001b[0;32mif\u001b[0m \u001b[0mqname\u001b[0m\u001b[0;34m.\u001b[0m\u001b[0mis_absolute\u001b[0m\u001b[0;34m(\u001b[0m\u001b[0;34m)\u001b[0m\u001b[0;34m:\u001b[0m\u001b[0;34m\u001b[0m\u001b[0;34m\u001b[0m\u001b[0m\n\u001b[0m\u001b[1;32m   1087\u001b[0m             \u001b[0mqnames_to_try\u001b[0m\u001b[0;34m.\u001b[0m\u001b[0mappend\u001b[0m\u001b[0;34m(\u001b[0m\u001b[0mqname\u001b[0m\u001b[0;34m)\u001b[0m\u001b[0;34m\u001b[0m\u001b[0;34m\u001b[0m\u001b[0m\n\u001b[1;32m   1088\u001b[0m         \u001b[0;32melse\u001b[0m\u001b[0;34m:\u001b[0m\u001b[0;34m\u001b[0m\u001b[0;34m\u001b[0m\u001b[0m\n",
            "\u001b[0;31mAttributeError\u001b[0m: 'bytes' object has no attribute 'is_absolute'"
          ]
        }
      ]
    },
    {
      "cell_type": "code",
      "execution_count": null,
      "metadata": {
        "id": "L8P1R-jBrHFF",
        "colab": {
          "base_uri": "https://localhost:8080/"
        },
        "outputId": "ea4e4f51-2e74-4c86-8ddb-abb47fc82084"
      },
      "outputs": [
        {
          "output_type": "stream",
          "name": "stdout",
          "text": [
            "❌ The domain phishbate.com does not have an SPF record.\n",
            "❌ The SPF record for phishbate.com does not pass basic syntax checks.\n"
          ]
        }
      ],
      "source": [
        "import dns.resolver\n",
        "\n",
        "def has_spf_record(domain):\n",
        "    try:\n",
        "        answers = dns.resolver.resolve(domain, 'TXT')\n",
        "        for rdata in answers:\n",
        "            if 'v=spf1' in rdata.strings:\n",
        "                return True\n",
        "    except dns.resolver.NXDOMAIN:\n",
        "        return False\n",
        "    return False\n",
        "\n",
        "def passes_syntax_checks(domain):\n",
        "    try:\n",
        "        answers = dns.resolver.resolve(domain, 'TXT')\n",
        "        for rdata in answers:\n",
        "            if 'v=spf1' in rdata.strings:\n",
        "                spf_record = ''.join(rdata.strings)\n",
        "                # Basic syntax check\n",
        "                if spf_record.startswith('v=spf1 ') and ' ' in spf_record:\n",
        "                    return True\n",
        "    except dns.resolver.NXDOMAIN:\n",
        "        return False\n",
        "    return False\n",
        "\n",
        "# Example usage\n",
        "#domain = ('https://'+domain) #'example.com'\n",
        "\n",
        "if has_spf_record(domain):\n",
        "    print(f\"✅ The domain {domain} has an SPF record.\")\n",
        "else:\n",
        "    print(f\"❌ The domain {domain} does not have an SPF record.\")\n",
        "\n",
        "if passes_syntax_checks(domain):\n",
        "    print(f\"✅ The SPF record for {domain} passes basic syntax checks.\")\n",
        "else:\n",
        "    print(f\"❌ The SPF record for {domain} does not pass basic syntax checks.\")"
      ]
    },
    {
      "cell_type": "markdown",
      "metadata": {
        "jp-MarkdownHeadingCollapsed": true,
        "id": "axwVVA_trHFF"
      },
      "source": [
        "### 2.2 Strict SPF filtering\n",
        "\n",
        "Sender Policy Framework (SPF) record strictly enforces specific domains allowed to send email on its behalf."
      ]
    },
    {
      "cell_type": "code",
      "execution_count": null,
      "metadata": {
        "id": "yq7ubR_LrHFF",
        "colab": {
          "base_uri": "https://localhost:8080/"
        },
        "outputId": "451b14e0-c77a-473f-e407-0ba237eff9c6"
      },
      "outputs": [
        {
          "output_type": "stream",
          "name": "stdout",
          "text": [
            "phishbate.com has an SPF record.\n"
          ]
        },
        {
          "output_type": "stream",
          "name": "stderr",
          "text": [
            "<ipython-input-27-964ca225e8b6>:5: DeprecationWarning: please use dns.resolver.resolve() instead\n",
            "  answers = dns.resolver.query(domain, 'TXT')\n"
          ]
        }
      ],
      "source": [
        "import dns.resolver\n",
        "\n",
        "def has_spf_record(domain):\n",
        "    try:\n",
        "        answers = dns.resolver.query(domain, 'TXT')\n",
        "        for rdata in answers:\n",
        "            if \"v=spf1\" in rdata.strings[0].decode():\n",
        "                return True\n",
        "        return False\n",
        "    except dns.resolver.NoAnswer:\n",
        "        return False\n",
        "    except dns.exception.DNSException:\n",
        "        print(\"Error: Unable to resolve domain.\")\n",
        "        return False\n",
        "\n",
        "if __name__ == \"__main__\":\n",
        "    website = domain.strip()\n",
        "    if website:\n",
        "        if has_spf_record(website):\n",
        "            print(f\"{website} has an SPF record.\")\n",
        "        else:\n",
        "            print(f\"{website} does not have an SPF record.\")\n",
        "    else:\n",
        "        print(\"Please provide a valid website domain.\")\n"
      ]
    },
    {
      "cell_type": "markdown",
      "metadata": {
        "jp-MarkdownHeadingCollapsed": true,
        "id": "iiQ01lZWrHFF"
      },
      "source": [
        "### 2.3 SPF ptr mechanism not used\n",
        "\n",
        "Sender Policy Framework (SPF) record does not include the ptr mechanism."
      ]
    },
    {
      "cell_type": "code",
      "execution_count": null,
      "metadata": {
        "id": "-zW0HKyzrHFF",
        "colab": {
          "base_uri": "https://localhost:8080/"
        },
        "outputId": "2d2e3a58-c9d8-42ee-b7bc-0a2d51dbdc14"
      },
      "outputs": [
        {
          "output_type": "stream",
          "name": "stdout",
          "text": [
            "The SPF record for 'phishbate.com' does not include the 'ptr' mechanism.\n"
          ]
        },
        {
          "output_type": "stream",
          "name": "stderr",
          "text": [
            "<ipython-input-28-0a600cc1fffb>:7: DeprecationWarning: please use dns.resolver.resolve() instead\n",
            "  spf_record = dns.resolver.query(domain, 'TXT')\n"
          ]
        }
      ],
      "source": [
        "import dns.resolver\n",
        "import re\n",
        "\n",
        "def check_spf_ptr_mechanism(domain):\n",
        "    try:\n",
        "        # Perform a DNS query to get the SPF record for the domain\n",
        "        spf_record = dns.resolver.query(domain, 'TXT')\n",
        "\n",
        "        # Extract the SPF text from the DNS response\n",
        "        spf_text = str(spf_record[0].strings[0], encoding='utf-8')\n",
        "\n",
        "        # Check if the 'ptr' mechanism is present in the SPF text\n",
        "        return 'ptr' in re.findall(r'\\b(?!v=spf1\\b)\\w+', spf_text)\n",
        "\n",
        "    except (dns.resolver.NoAnswer, dns.resolver.NXDOMAIN, dns.resolver.NoNameservers, dns.exception.Timeout):\n",
        "        print(f\"Error: Unable to retrieve SPF record for '{domain}'.\")\n",
        "        return False\n",
        "\n",
        "if __name__ == \"__main__\":\n",
        "    domain_to_check = domain #\"example.com\"  # Replace this with the domain you want to check\n",
        "\n",
        "    result = check_spf_ptr_mechanism(domain_to_check)\n",
        "    if result:\n",
        "        print(f\"The SPF record for '{domain_to_check}' includes the 'ptr' mechanism.\")\n",
        "    else:\n",
        "        print(f\"The SPF record for '{domain_to_check}' does not include the 'ptr' mechanism.\")\n"
      ]
    },
    {
      "cell_type": "markdown",
      "source": [
        "### DKIM Check"
      ],
      "metadata": {
        "id": "cluc1IP0srG4"
      }
    },
    {
      "cell_type": "code",
      "source": [
        "domain = 'phishbate.com'\n",
        "import dns.resolver\n",
        "from dns.resolver import NXDOMAIN\n",
        "\n",
        "def has_dkim(domain):\n",
        "    try:\n",
        "        dkim_records = dns.resolver.resolve(f'_adsp._domainkey.{domain}', 'TXT')\n",
        "        for record in dkim_records:\n",
        "            if 'dkim=all' in record.to_text():\n",
        "                return True\n",
        "    except NXDOMAIN:\n",
        "        pass\n",
        "    return False\n",
        "\n",
        "#website = domain\n",
        "if has_dkim(domain):\n",
        "    print(f'✅ {domain} has DKIM')\n",
        "else:\n",
        "    print(f'❌ {domain} does not have DKIM')\n",
        "\n"
      ],
      "metadata": {
        "colab": {
          "base_uri": "https://localhost:8080/"
        },
        "id": "F7-0Wr31srXa",
        "outputId": "65f1f336-eee3-40d0-dff4-08a565e33b71"
      },
      "execution_count": null,
      "outputs": [
        {
          "output_type": "stream",
          "name": "stdout",
          "text": [
            "❌ phishbate.com does not have DKIM\n"
          ]
        }
      ]
    },
    {
      "cell_type": "markdown",
      "metadata": {
        "jp-MarkdownHeadingCollapsed": true,
        "id": "qbZJl1MPrHFF"
      },
      "source": [
        "\n",
        "\n",
        "```\n",
        "`# This is formatted as code`\n",
        "```\n",
        "\n",
        "### 2.4 DMARC policy exists\n",
        "\n",
        "DMARC protects against fraudulent emails being sent from a domain."
      ]
    },
    {
      "cell_type": "code",
      "execution_count": null,
      "metadata": {
        "id": "uUw7fnzSrHFF",
        "colab": {
          "base_uri": "https://localhost:8080/",
          "height": 617
        },
        "outputId": "4de870d5-ebda-4a7d-886e-63e9c920daad"
      },
      "outputs": [
        {
          "output_type": "error",
          "ename": "ConnectionError",
          "evalue": "HTTPSConnectionPool(host='https', port=443): Max retries exceeded with url: //phishbate.com (Caused by NameResolutionError(\"<urllib3.connection.HTTPSConnection object at 0x7cdaf97bbb50>: Failed to resolve 'https' ([Errno -2] Name or service not known)\"))",
          "traceback": [
            "\u001b[0;31m---------------------------------------------------------------------------\u001b[0m",
            "\u001b[0;31mgaierror\u001b[0m                                  Traceback (most recent call last)",
            "\u001b[0;32m/usr/local/lib/python3.10/dist-packages/urllib3/connection.py\u001b[0m in \u001b[0;36m_new_conn\u001b[0;34m(self)\u001b[0m\n\u001b[1;32m    202\u001b[0m         \u001b[0;32mtry\u001b[0m\u001b[0;34m:\u001b[0m\u001b[0;34m\u001b[0m\u001b[0;34m\u001b[0m\u001b[0m\n\u001b[0;32m--> 203\u001b[0;31m             sock = connection.create_connection(\n\u001b[0m\u001b[1;32m    204\u001b[0m                 \u001b[0;34m(\u001b[0m\u001b[0mself\u001b[0m\u001b[0;34m.\u001b[0m\u001b[0m_dns_host\u001b[0m\u001b[0;34m,\u001b[0m \u001b[0mself\u001b[0m\u001b[0;34m.\u001b[0m\u001b[0mport\u001b[0m\u001b[0;34m)\u001b[0m\u001b[0;34m,\u001b[0m\u001b[0;34m\u001b[0m\u001b[0;34m\u001b[0m\u001b[0m\n",
            "\u001b[0;32m/usr/local/lib/python3.10/dist-packages/urllib3/util/connection.py\u001b[0m in \u001b[0;36mcreate_connection\u001b[0;34m(address, timeout, source_address, socket_options)\u001b[0m\n\u001b[1;32m     59\u001b[0m \u001b[0;34m\u001b[0m\u001b[0m\n\u001b[0;32m---> 60\u001b[0;31m     \u001b[0;32mfor\u001b[0m \u001b[0mres\u001b[0m \u001b[0;32min\u001b[0m \u001b[0msocket\u001b[0m\u001b[0;34m.\u001b[0m\u001b[0mgetaddrinfo\u001b[0m\u001b[0;34m(\u001b[0m\u001b[0mhost\u001b[0m\u001b[0;34m,\u001b[0m \u001b[0mport\u001b[0m\u001b[0;34m,\u001b[0m \u001b[0mfamily\u001b[0m\u001b[0;34m,\u001b[0m \u001b[0msocket\u001b[0m\u001b[0;34m.\u001b[0m\u001b[0mSOCK_STREAM\u001b[0m\u001b[0;34m)\u001b[0m\u001b[0;34m:\u001b[0m\u001b[0;34m\u001b[0m\u001b[0;34m\u001b[0m\u001b[0m\n\u001b[0m\u001b[1;32m     61\u001b[0m         \u001b[0maf\u001b[0m\u001b[0;34m,\u001b[0m \u001b[0msocktype\u001b[0m\u001b[0;34m,\u001b[0m \u001b[0mproto\u001b[0m\u001b[0;34m,\u001b[0m \u001b[0mcanonname\u001b[0m\u001b[0;34m,\u001b[0m \u001b[0msa\u001b[0m \u001b[0;34m=\u001b[0m \u001b[0mres\u001b[0m\u001b[0;34m\u001b[0m\u001b[0;34m\u001b[0m\u001b[0m\n",
            "\u001b[0;32m/usr/lib/python3.10/socket.py\u001b[0m in \u001b[0;36mgetaddrinfo\u001b[0;34m(host, port, family, type, proto, flags)\u001b[0m\n\u001b[1;32m    954\u001b[0m     \u001b[0maddrlist\u001b[0m \u001b[0;34m=\u001b[0m \u001b[0;34m[\u001b[0m\u001b[0;34m]\u001b[0m\u001b[0;34m\u001b[0m\u001b[0;34m\u001b[0m\u001b[0m\n\u001b[0;32m--> 955\u001b[0;31m     \u001b[0;32mfor\u001b[0m \u001b[0mres\u001b[0m \u001b[0;32min\u001b[0m \u001b[0m_socket\u001b[0m\u001b[0;34m.\u001b[0m\u001b[0mgetaddrinfo\u001b[0m\u001b[0;34m(\u001b[0m\u001b[0mhost\u001b[0m\u001b[0;34m,\u001b[0m \u001b[0mport\u001b[0m\u001b[0;34m,\u001b[0m \u001b[0mfamily\u001b[0m\u001b[0;34m,\u001b[0m \u001b[0mtype\u001b[0m\u001b[0;34m,\u001b[0m \u001b[0mproto\u001b[0m\u001b[0;34m,\u001b[0m \u001b[0mflags\u001b[0m\u001b[0;34m)\u001b[0m\u001b[0;34m:\u001b[0m\u001b[0;34m\u001b[0m\u001b[0;34m\u001b[0m\u001b[0m\n\u001b[0m\u001b[1;32m    956\u001b[0m         \u001b[0maf\u001b[0m\u001b[0;34m,\u001b[0m \u001b[0msocktype\u001b[0m\u001b[0;34m,\u001b[0m \u001b[0mproto\u001b[0m\u001b[0;34m,\u001b[0m \u001b[0mcanonname\u001b[0m\u001b[0;34m,\u001b[0m \u001b[0msa\u001b[0m \u001b[0;34m=\u001b[0m \u001b[0mres\u001b[0m\u001b[0;34m\u001b[0m\u001b[0;34m\u001b[0m\u001b[0m\n",
            "\u001b[0;31mgaierror\u001b[0m: [Errno -2] Name or service not known",
            "\nThe above exception was the direct cause of the following exception:\n",
            "\u001b[0;31mNameResolutionError\u001b[0m                       Traceback (most recent call last)",
            "\u001b[0;32m/usr/local/lib/python3.10/dist-packages/urllib3/connectionpool.py\u001b[0m in \u001b[0;36murlopen\u001b[0;34m(self, method, url, body, headers, retries, redirect, assert_same_host, timeout, pool_timeout, release_conn, chunked, body_pos, preload_content, decode_content, **response_kw)\u001b[0m\n\u001b[1;32m    790\u001b[0m             \u001b[0;31m# Make the request on the HTTPConnection object\u001b[0m\u001b[0;34m\u001b[0m\u001b[0;34m\u001b[0m\u001b[0m\n\u001b[0;32m--> 791\u001b[0;31m             response = self._make_request(\n\u001b[0m\u001b[1;32m    792\u001b[0m                 \u001b[0mconn\u001b[0m\u001b[0;34m,\u001b[0m\u001b[0;34m\u001b[0m\u001b[0;34m\u001b[0m\u001b[0m\n",
            "\u001b[0;32m/usr/local/lib/python3.10/dist-packages/urllib3/connectionpool.py\u001b[0m in \u001b[0;36m_make_request\u001b[0;34m(self, conn, method, url, body, headers, retries, timeout, chunked, response_conn, preload_content, decode_content, enforce_content_length)\u001b[0m\n\u001b[1;32m    491\u001b[0m                 \u001b[0mnew_e\u001b[0m \u001b[0;34m=\u001b[0m \u001b[0m_wrap_proxy_error\u001b[0m\u001b[0;34m(\u001b[0m\u001b[0mnew_e\u001b[0m\u001b[0;34m,\u001b[0m \u001b[0mconn\u001b[0m\u001b[0;34m.\u001b[0m\u001b[0mproxy\u001b[0m\u001b[0;34m.\u001b[0m\u001b[0mscheme\u001b[0m\u001b[0;34m)\u001b[0m\u001b[0;34m\u001b[0m\u001b[0;34m\u001b[0m\u001b[0m\n\u001b[0;32m--> 492\u001b[0;31m             \u001b[0;32mraise\u001b[0m \u001b[0mnew_e\u001b[0m\u001b[0;34m\u001b[0m\u001b[0;34m\u001b[0m\u001b[0m\n\u001b[0m\u001b[1;32m    493\u001b[0m \u001b[0;34m\u001b[0m\u001b[0m\n",
            "\u001b[0;32m/usr/local/lib/python3.10/dist-packages/urllib3/connectionpool.py\u001b[0m in \u001b[0;36m_make_request\u001b[0;34m(self, conn, method, url, body, headers, retries, timeout, chunked, response_conn, preload_content, decode_content, enforce_content_length)\u001b[0m\n\u001b[1;32m    467\u001b[0m             \u001b[0;32mtry\u001b[0m\u001b[0;34m:\u001b[0m\u001b[0;34m\u001b[0m\u001b[0;34m\u001b[0m\u001b[0m\n\u001b[0;32m--> 468\u001b[0;31m                 \u001b[0mself\u001b[0m\u001b[0;34m.\u001b[0m\u001b[0m_validate_conn\u001b[0m\u001b[0;34m(\u001b[0m\u001b[0mconn\u001b[0m\u001b[0;34m)\u001b[0m\u001b[0;34m\u001b[0m\u001b[0;34m\u001b[0m\u001b[0m\n\u001b[0m\u001b[1;32m    469\u001b[0m             \u001b[0;32mexcept\u001b[0m \u001b[0;34m(\u001b[0m\u001b[0mSocketTimeout\u001b[0m\u001b[0;34m,\u001b[0m \u001b[0mBaseSSLError\u001b[0m\u001b[0;34m)\u001b[0m \u001b[0;32mas\u001b[0m \u001b[0me\u001b[0m\u001b[0;34m:\u001b[0m\u001b[0;34m\u001b[0m\u001b[0;34m\u001b[0m\u001b[0m\n",
            "\u001b[0;32m/usr/local/lib/python3.10/dist-packages/urllib3/connectionpool.py\u001b[0m in \u001b[0;36m_validate_conn\u001b[0;34m(self, conn)\u001b[0m\n\u001b[1;32m   1096\u001b[0m         \u001b[0;32mif\u001b[0m \u001b[0mconn\u001b[0m\u001b[0;34m.\u001b[0m\u001b[0mis_closed\u001b[0m\u001b[0;34m:\u001b[0m\u001b[0;34m\u001b[0m\u001b[0;34m\u001b[0m\u001b[0m\n\u001b[0;32m-> 1097\u001b[0;31m             \u001b[0mconn\u001b[0m\u001b[0;34m.\u001b[0m\u001b[0mconnect\u001b[0m\u001b[0;34m(\u001b[0m\u001b[0;34m)\u001b[0m\u001b[0;34m\u001b[0m\u001b[0;34m\u001b[0m\u001b[0m\n\u001b[0m\u001b[1;32m   1098\u001b[0m \u001b[0;34m\u001b[0m\u001b[0m\n",
            "\u001b[0;32m/usr/local/lib/python3.10/dist-packages/urllib3/connection.py\u001b[0m in \u001b[0;36mconnect\u001b[0;34m(self)\u001b[0m\n\u001b[1;32m    610\u001b[0m         \u001b[0msock\u001b[0m\u001b[0;34m:\u001b[0m \u001b[0msocket\u001b[0m\u001b[0;34m.\u001b[0m\u001b[0msocket\u001b[0m \u001b[0;34m|\u001b[0m \u001b[0mssl\u001b[0m\u001b[0;34m.\u001b[0m\u001b[0mSSLSocket\u001b[0m\u001b[0;34m\u001b[0m\u001b[0;34m\u001b[0m\u001b[0m\n\u001b[0;32m--> 611\u001b[0;31m         \u001b[0mself\u001b[0m\u001b[0;34m.\u001b[0m\u001b[0msock\u001b[0m \u001b[0;34m=\u001b[0m \u001b[0msock\u001b[0m \u001b[0;34m=\u001b[0m \u001b[0mself\u001b[0m\u001b[0;34m.\u001b[0m\u001b[0m_new_conn\u001b[0m\u001b[0;34m(\u001b[0m\u001b[0;34m)\u001b[0m\u001b[0;34m\u001b[0m\u001b[0;34m\u001b[0m\u001b[0m\n\u001b[0m\u001b[1;32m    612\u001b[0m         \u001b[0mserver_hostname\u001b[0m\u001b[0;34m:\u001b[0m \u001b[0mstr\u001b[0m \u001b[0;34m=\u001b[0m \u001b[0mself\u001b[0m\u001b[0;34m.\u001b[0m\u001b[0mhost\u001b[0m\u001b[0;34m\u001b[0m\u001b[0;34m\u001b[0m\u001b[0m\n",
            "\u001b[0;32m/usr/local/lib/python3.10/dist-packages/urllib3/connection.py\u001b[0m in \u001b[0;36m_new_conn\u001b[0;34m(self)\u001b[0m\n\u001b[1;32m    209\u001b[0m         \u001b[0;32mexcept\u001b[0m \u001b[0msocket\u001b[0m\u001b[0;34m.\u001b[0m\u001b[0mgaierror\u001b[0m \u001b[0;32mas\u001b[0m \u001b[0me\u001b[0m\u001b[0;34m:\u001b[0m\u001b[0;34m\u001b[0m\u001b[0;34m\u001b[0m\u001b[0m\n\u001b[0;32m--> 210\u001b[0;31m             \u001b[0;32mraise\u001b[0m \u001b[0mNameResolutionError\u001b[0m\u001b[0;34m(\u001b[0m\u001b[0mself\u001b[0m\u001b[0;34m.\u001b[0m\u001b[0mhost\u001b[0m\u001b[0;34m,\u001b[0m \u001b[0mself\u001b[0m\u001b[0;34m,\u001b[0m \u001b[0me\u001b[0m\u001b[0;34m)\u001b[0m \u001b[0;32mfrom\u001b[0m \u001b[0me\u001b[0m\u001b[0;34m\u001b[0m\u001b[0;34m\u001b[0m\u001b[0m\n\u001b[0m\u001b[1;32m    211\u001b[0m         \u001b[0;32mexcept\u001b[0m \u001b[0mSocketTimeout\u001b[0m \u001b[0;32mas\u001b[0m \u001b[0me\u001b[0m\u001b[0;34m:\u001b[0m\u001b[0;34m\u001b[0m\u001b[0;34m\u001b[0m\u001b[0m\n",
            "\u001b[0;31mNameResolutionError\u001b[0m: <urllib3.connection.HTTPSConnection object at 0x7cdaf97bbb50>: Failed to resolve 'https' ([Errno -2] Name or service not known)",
            "\nThe above exception was the direct cause of the following exception:\n",
            "\u001b[0;31mMaxRetryError\u001b[0m                             Traceback (most recent call last)",
            "\u001b[0;32m/usr/local/lib/python3.10/dist-packages/requests/adapters.py\u001b[0m in \u001b[0;36msend\u001b[0;34m(self, request, stream, timeout, verify, cert, proxies)\u001b[0m\n\u001b[1;32m    485\u001b[0m         \u001b[0;32mtry\u001b[0m\u001b[0;34m:\u001b[0m\u001b[0;34m\u001b[0m\u001b[0;34m\u001b[0m\u001b[0m\n\u001b[0;32m--> 486\u001b[0;31m             resp = conn.urlopen(\n\u001b[0m\u001b[1;32m    487\u001b[0m                 \u001b[0mmethod\u001b[0m\u001b[0;34m=\u001b[0m\u001b[0mrequest\u001b[0m\u001b[0;34m.\u001b[0m\u001b[0mmethod\u001b[0m\u001b[0;34m,\u001b[0m\u001b[0;34m\u001b[0m\u001b[0;34m\u001b[0m\u001b[0m\n",
            "\u001b[0;32m/usr/local/lib/python3.10/dist-packages/urllib3/connectionpool.py\u001b[0m in \u001b[0;36murlopen\u001b[0;34m(self, method, url, body, headers, retries, redirect, assert_same_host, timeout, pool_timeout, release_conn, chunked, body_pos, preload_content, decode_content, **response_kw)\u001b[0m\n\u001b[1;32m    844\u001b[0m \u001b[0;34m\u001b[0m\u001b[0m\n\u001b[0;32m--> 845\u001b[0;31m             retries = retries.increment(\n\u001b[0m\u001b[1;32m    846\u001b[0m                 \u001b[0mmethod\u001b[0m\u001b[0;34m,\u001b[0m \u001b[0murl\u001b[0m\u001b[0;34m,\u001b[0m \u001b[0merror\u001b[0m\u001b[0;34m=\u001b[0m\u001b[0mnew_e\u001b[0m\u001b[0;34m,\u001b[0m \u001b[0m_pool\u001b[0m\u001b[0;34m=\u001b[0m\u001b[0mself\u001b[0m\u001b[0;34m,\u001b[0m \u001b[0m_stacktrace\u001b[0m\u001b[0;34m=\u001b[0m\u001b[0msys\u001b[0m\u001b[0;34m.\u001b[0m\u001b[0mexc_info\u001b[0m\u001b[0;34m(\u001b[0m\u001b[0;34m)\u001b[0m\u001b[0;34m[\u001b[0m\u001b[0;36m2\u001b[0m\u001b[0;34m]\u001b[0m\u001b[0;34m\u001b[0m\u001b[0;34m\u001b[0m\u001b[0m\n",
            "\u001b[0;32m/usr/local/lib/python3.10/dist-packages/urllib3/util/retry.py\u001b[0m in \u001b[0;36mincrement\u001b[0;34m(self, method, url, response, error, _pool, _stacktrace)\u001b[0m\n\u001b[1;32m    514\u001b[0m             \u001b[0mreason\u001b[0m \u001b[0;34m=\u001b[0m \u001b[0merror\u001b[0m \u001b[0;32mor\u001b[0m \u001b[0mResponseError\u001b[0m\u001b[0;34m(\u001b[0m\u001b[0mcause\u001b[0m\u001b[0;34m)\u001b[0m\u001b[0;34m\u001b[0m\u001b[0;34m\u001b[0m\u001b[0m\n\u001b[0;32m--> 515\u001b[0;31m             \u001b[0;32mraise\u001b[0m \u001b[0mMaxRetryError\u001b[0m\u001b[0;34m(\u001b[0m\u001b[0m_pool\u001b[0m\u001b[0;34m,\u001b[0m \u001b[0murl\u001b[0m\u001b[0;34m,\u001b[0m \u001b[0mreason\u001b[0m\u001b[0;34m)\u001b[0m \u001b[0;32mfrom\u001b[0m \u001b[0mreason\u001b[0m  \u001b[0;31m# type: ignore[arg-type]\u001b[0m\u001b[0;34m\u001b[0m\u001b[0;34m\u001b[0m\u001b[0m\n\u001b[0m\u001b[1;32m    516\u001b[0m \u001b[0;34m\u001b[0m\u001b[0m\n",
            "\u001b[0;31mMaxRetryError\u001b[0m: HTTPSConnectionPool(host='https', port=443): Max retries exceeded with url: //phishbate.com (Caused by NameResolutionError(\"<urllib3.connection.HTTPSConnection object at 0x7cdaf97bbb50>: Failed to resolve 'https' ([Errno -2] Name or service not known)\"))",
            "\nDuring handling of the above exception, another exception occurred:\n",
            "\u001b[0;31mConnectionError\u001b[0m                           Traceback (most recent call last)",
            "\u001b[0;32m<ipython-input-17-9bf239ea5161>\u001b[0m in \u001b[0;36m<cell line: 24>\u001b[0;34m()\u001b[0m\n\u001b[1;32m     22\u001b[0m \u001b[0;31m# Example usage\u001b[0m\u001b[0;34m\u001b[0m\u001b[0;34m\u001b[0m\u001b[0m\n\u001b[1;32m     23\u001b[0m \u001b[0mwebsite_url\u001b[0m \u001b[0;34m=\u001b[0m \u001b[0mdomain\u001b[0m \u001b[0;31m#\"https://www.example.com\"\u001b[0m\u001b[0;34m\u001b[0m\u001b[0;34m\u001b[0m\u001b[0m\n\u001b[0;32m---> 24\u001b[0;31m \u001b[0mresult\u001b[0m \u001b[0;34m=\u001b[0m \u001b[0mcheck_dmarc_policy\u001b[0m\u001b[0;34m(\u001b[0m\u001b[0mwebsite_url\u001b[0m\u001b[0;34m)\u001b[0m\u001b[0;34m\u001b[0m\u001b[0;34m\u001b[0m\u001b[0m\n\u001b[0m\u001b[1;32m     25\u001b[0m \u001b[0mprint\u001b[0m\u001b[0;34m(\u001b[0m\u001b[0mresult\u001b[0m\u001b[0;34m)\u001b[0m\u001b[0;34m\u001b[0m\u001b[0;34m\u001b[0m\u001b[0m\n",
            "\u001b[0;32m<ipython-input-17-9bf239ea5161>\u001b[0m in \u001b[0;36mcheck_dmarc_policy\u001b[0;34m(url)\u001b[0m\n\u001b[1;32m      3\u001b[0m \u001b[0;34m\u001b[0m\u001b[0m\n\u001b[1;32m      4\u001b[0m \u001b[0;32mdef\u001b[0m \u001b[0mcheck_dmarc_policy\u001b[0m\u001b[0;34m(\u001b[0m\u001b[0murl\u001b[0m\u001b[0;34m)\u001b[0m\u001b[0;34m:\u001b[0m\u001b[0;34m\u001b[0m\u001b[0;34m\u001b[0m\u001b[0m\n\u001b[0;32m----> 5\u001b[0;31m     \u001b[0mresponse\u001b[0m \u001b[0;34m=\u001b[0m \u001b[0mrequests\u001b[0m\u001b[0;34m.\u001b[0m\u001b[0mget\u001b[0m\u001b[0;34m(\u001b[0m\u001b[0murl\u001b[0m\u001b[0;34m)\u001b[0m\u001b[0;34m\u001b[0m\u001b[0;34m\u001b[0m\u001b[0m\n\u001b[0m\u001b[1;32m      6\u001b[0m     \u001b[0;32mif\u001b[0m \u001b[0mresponse\u001b[0m\u001b[0;34m.\u001b[0m\u001b[0mstatus_code\u001b[0m \u001b[0;34m==\u001b[0m \u001b[0;36m200\u001b[0m\u001b[0;34m:\u001b[0m\u001b[0;34m\u001b[0m\u001b[0;34m\u001b[0m\u001b[0m\n\u001b[1;32m      7\u001b[0m         \u001b[0mhtml_content\u001b[0m \u001b[0;34m=\u001b[0m \u001b[0mresponse\u001b[0m\u001b[0;34m.\u001b[0m\u001b[0mtext\u001b[0m\u001b[0;34m\u001b[0m\u001b[0;34m\u001b[0m\u001b[0m\n",
            "\u001b[0;32m/usr/local/lib/python3.10/dist-packages/requests/api.py\u001b[0m in \u001b[0;36mget\u001b[0;34m(url, params, **kwargs)\u001b[0m\n\u001b[1;32m     71\u001b[0m     \"\"\"\n\u001b[1;32m     72\u001b[0m \u001b[0;34m\u001b[0m\u001b[0m\n\u001b[0;32m---> 73\u001b[0;31m     \u001b[0;32mreturn\u001b[0m \u001b[0mrequest\u001b[0m\u001b[0;34m(\u001b[0m\u001b[0;34m\"get\"\u001b[0m\u001b[0;34m,\u001b[0m \u001b[0murl\u001b[0m\u001b[0;34m,\u001b[0m \u001b[0mparams\u001b[0m\u001b[0;34m=\u001b[0m\u001b[0mparams\u001b[0m\u001b[0;34m,\u001b[0m \u001b[0;34m**\u001b[0m\u001b[0mkwargs\u001b[0m\u001b[0;34m)\u001b[0m\u001b[0;34m\u001b[0m\u001b[0;34m\u001b[0m\u001b[0m\n\u001b[0m\u001b[1;32m     74\u001b[0m \u001b[0;34m\u001b[0m\u001b[0m\n\u001b[1;32m     75\u001b[0m \u001b[0;34m\u001b[0m\u001b[0m\n",
            "\u001b[0;32m/usr/local/lib/python3.10/dist-packages/requests/api.py\u001b[0m in \u001b[0;36mrequest\u001b[0;34m(method, url, **kwargs)\u001b[0m\n\u001b[1;32m     57\u001b[0m     \u001b[0;31m# cases, and look like a memory leak in others.\u001b[0m\u001b[0;34m\u001b[0m\u001b[0;34m\u001b[0m\u001b[0m\n\u001b[1;32m     58\u001b[0m     \u001b[0;32mwith\u001b[0m \u001b[0msessions\u001b[0m\u001b[0;34m.\u001b[0m\u001b[0mSession\u001b[0m\u001b[0;34m(\u001b[0m\u001b[0;34m)\u001b[0m \u001b[0;32mas\u001b[0m \u001b[0msession\u001b[0m\u001b[0;34m:\u001b[0m\u001b[0;34m\u001b[0m\u001b[0;34m\u001b[0m\u001b[0m\n\u001b[0;32m---> 59\u001b[0;31m         \u001b[0;32mreturn\u001b[0m \u001b[0msession\u001b[0m\u001b[0;34m.\u001b[0m\u001b[0mrequest\u001b[0m\u001b[0;34m(\u001b[0m\u001b[0mmethod\u001b[0m\u001b[0;34m=\u001b[0m\u001b[0mmethod\u001b[0m\u001b[0;34m,\u001b[0m \u001b[0murl\u001b[0m\u001b[0;34m=\u001b[0m\u001b[0murl\u001b[0m\u001b[0;34m,\u001b[0m \u001b[0;34m**\u001b[0m\u001b[0mkwargs\u001b[0m\u001b[0;34m)\u001b[0m\u001b[0;34m\u001b[0m\u001b[0;34m\u001b[0m\u001b[0m\n\u001b[0m\u001b[1;32m     60\u001b[0m \u001b[0;34m\u001b[0m\u001b[0m\n\u001b[1;32m     61\u001b[0m \u001b[0;34m\u001b[0m\u001b[0m\n",
            "\u001b[0;32m/usr/local/lib/python3.10/dist-packages/requests/sessions.py\u001b[0m in \u001b[0;36mrequest\u001b[0;34m(self, method, url, params, data, headers, cookies, files, auth, timeout, allow_redirects, proxies, hooks, stream, verify, cert, json)\u001b[0m\n\u001b[1;32m    587\u001b[0m         }\n\u001b[1;32m    588\u001b[0m         \u001b[0msend_kwargs\u001b[0m\u001b[0;34m.\u001b[0m\u001b[0mupdate\u001b[0m\u001b[0;34m(\u001b[0m\u001b[0msettings\u001b[0m\u001b[0;34m)\u001b[0m\u001b[0;34m\u001b[0m\u001b[0;34m\u001b[0m\u001b[0m\n\u001b[0;32m--> 589\u001b[0;31m         \u001b[0mresp\u001b[0m \u001b[0;34m=\u001b[0m \u001b[0mself\u001b[0m\u001b[0;34m.\u001b[0m\u001b[0msend\u001b[0m\u001b[0;34m(\u001b[0m\u001b[0mprep\u001b[0m\u001b[0;34m,\u001b[0m \u001b[0;34m**\u001b[0m\u001b[0msend_kwargs\u001b[0m\u001b[0;34m)\u001b[0m\u001b[0;34m\u001b[0m\u001b[0;34m\u001b[0m\u001b[0m\n\u001b[0m\u001b[1;32m    590\u001b[0m \u001b[0;34m\u001b[0m\u001b[0m\n\u001b[1;32m    591\u001b[0m         \u001b[0;32mreturn\u001b[0m \u001b[0mresp\u001b[0m\u001b[0;34m\u001b[0m\u001b[0;34m\u001b[0m\u001b[0m\n",
            "\u001b[0;32m/usr/local/lib/python3.10/dist-packages/requests/sessions.py\u001b[0m in \u001b[0;36msend\u001b[0;34m(self, request, **kwargs)\u001b[0m\n\u001b[1;32m    701\u001b[0m \u001b[0;34m\u001b[0m\u001b[0m\n\u001b[1;32m    702\u001b[0m         \u001b[0;31m# Send the request\u001b[0m\u001b[0;34m\u001b[0m\u001b[0;34m\u001b[0m\u001b[0m\n\u001b[0;32m--> 703\u001b[0;31m         \u001b[0mr\u001b[0m \u001b[0;34m=\u001b[0m \u001b[0madapter\u001b[0m\u001b[0;34m.\u001b[0m\u001b[0msend\u001b[0m\u001b[0;34m(\u001b[0m\u001b[0mrequest\u001b[0m\u001b[0;34m,\u001b[0m \u001b[0;34m**\u001b[0m\u001b[0mkwargs\u001b[0m\u001b[0;34m)\u001b[0m\u001b[0;34m\u001b[0m\u001b[0;34m\u001b[0m\u001b[0m\n\u001b[0m\u001b[1;32m    704\u001b[0m \u001b[0;34m\u001b[0m\u001b[0m\n\u001b[1;32m    705\u001b[0m         \u001b[0;31m# Total elapsed time of the request (approximately)\u001b[0m\u001b[0;34m\u001b[0m\u001b[0;34m\u001b[0m\u001b[0m\n",
            "\u001b[0;32m/usr/local/lib/python3.10/dist-packages/requests/adapters.py\u001b[0m in \u001b[0;36msend\u001b[0;34m(self, request, stream, timeout, verify, cert, proxies)\u001b[0m\n\u001b[1;32m    517\u001b[0m                 \u001b[0;32mraise\u001b[0m \u001b[0mSSLError\u001b[0m\u001b[0;34m(\u001b[0m\u001b[0me\u001b[0m\u001b[0;34m,\u001b[0m \u001b[0mrequest\u001b[0m\u001b[0;34m=\u001b[0m\u001b[0mrequest\u001b[0m\u001b[0;34m)\u001b[0m\u001b[0;34m\u001b[0m\u001b[0;34m\u001b[0m\u001b[0m\n\u001b[1;32m    518\u001b[0m \u001b[0;34m\u001b[0m\u001b[0m\n\u001b[0;32m--> 519\u001b[0;31m             \u001b[0;32mraise\u001b[0m \u001b[0mConnectionError\u001b[0m\u001b[0;34m(\u001b[0m\u001b[0me\u001b[0m\u001b[0;34m,\u001b[0m \u001b[0mrequest\u001b[0m\u001b[0;34m=\u001b[0m\u001b[0mrequest\u001b[0m\u001b[0;34m)\u001b[0m\u001b[0;34m\u001b[0m\u001b[0;34m\u001b[0m\u001b[0m\n\u001b[0m\u001b[1;32m    520\u001b[0m \u001b[0;34m\u001b[0m\u001b[0m\n\u001b[1;32m    521\u001b[0m         \u001b[0;32mexcept\u001b[0m \u001b[0mClosedPoolError\u001b[0m \u001b[0;32mas\u001b[0m \u001b[0me\u001b[0m\u001b[0;34m:\u001b[0m\u001b[0;34m\u001b[0m\u001b[0;34m\u001b[0m\u001b[0m\n",
            "\u001b[0;31mConnectionError\u001b[0m: HTTPSConnectionPool(host='https', port=443): Max retries exceeded with url: //phishbate.com (Caused by NameResolutionError(\"<urllib3.connection.HTTPSConnection object at 0x7cdaf97bbb50>: Failed to resolve 'https' ([Errno -2] Name or service not known)\"))"
          ]
        }
      ],
      "source": [
        "import requests\n",
        "import re\n",
        "\n",
        "def check_dmarc_policy(url):\n",
        "    response = requests.get(url)\n",
        "    if response.status_code == 200:\n",
        "        html_content = response.text\n",
        "\n",
        "        # Regular expression pattern to find the DMARC policy in the HTML content\n",
        "        dmarc_pattern = r\"(DMARC[^<]+)\"\n",
        "\n",
        "        # Search for the DMARC policy in the HTML content\n",
        "        matches = re.search(dmarc_pattern, html_content, re.IGNORECASE)\n",
        "        if matches:\n",
        "            dmarc_policy = matches.group(0)\n",
        "            return f\"✅ The website contains a DMARC policy:\\n{dmarc_policy}\"\n",
        "        else:\n",
        "            return \"❌ The website does not contain a DMARC policy.\"\n",
        "    else:\n",
        "        return \"🛟 Failed to fetch the website content.\"\n",
        "\n",
        "# Example usage\n",
        "website_url = domain #\"https://www.example.com\"\n",
        "result = check_dmarc_policy(website_url)\n",
        "print(result)"
      ]
    },
    {
      "cell_type": "markdown",
      "metadata": {
        "jp-MarkdownHeadingCollapsed": true,
        "id": "JR-2dnbyrHFF"
      },
      "source": [
        "### 2.5 DMARC policy is p=reject\n",
        "\n",
        "DMARC reject policy provides the most effective protection against fraudulent emails being sent from a domain."
      ]
    },
    {
      "cell_type": "code",
      "execution_count": null,
      "metadata": {
        "id": "l4BsO-ZSrHFF",
        "colab": {
          "base_uri": "https://localhost:8080/"
        },
        "outputId": "769ad630-c103-4775-a6c4-0e5773c586b5"
      },
      "outputs": [
        {
          "output_type": "stream",
          "name": "stdout",
          "text": [
            "Domain 'ptf.com.au' does not have a DMARC record.\n",
            "No DMARC policy found for 'ptf.com.au'.\n"
          ]
        },
        {
          "output_type": "stream",
          "name": "stderr",
          "text": [
            "<ipython-input-29-a8113d3f0b20>:6: DeprecationWarning: please use dns.resolver.resolve() instead\n",
            "  query = dns.resolver.query(f'_dmarc.{domain}', 'TXT')\n"
          ]
        }
      ],
      "source": [
        "import dns.resolver\n",
        "\n",
        "def get_dmarc_policy(domain):\n",
        "    try:\n",
        "        # Query the TXT records of the _dmarc subdomain\n",
        "        query = dns.resolver.query(f'_dmarc.{domain}', 'TXT')\n",
        "        for txt_data in query:\n",
        "            for txt_string in txt_data.strings:\n",
        "                # Extract the DMARC policy from the TXT record\n",
        "                txt_string = txt_string.decode('utf-8')\n",
        "                if txt_string.startswith('v=DMARC1'):\n",
        "                    policy_parts = txt_string.split(';')\n",
        "                    for part in policy_parts:\n",
        "                        if part.strip().startswith('p='):\n",
        "                            return part.strip()\n",
        "    except dns.resolver.NXDOMAIN:\n",
        "        print(f\"Domain '{domain}' does not have a DMARC record.\")\n",
        "    except dns.resolver.NoAnswer:\n",
        "        print(f\"No DNS answer for domain '{domain}'.\")\n",
        "    except dns.resolver.Timeout:\n",
        "        print(f\"DNS query for domain '{domain}' timed out.\")\n",
        "    except Exception as e:\n",
        "        print(f\"An error occurred while querying the DMARC record: {e}\")\n",
        "\n",
        "    return None\n",
        "\n",
        "if __name__ == \"__main__\":\n",
        "    domain_to_check = domain #\"example.com\"  # Replace this with the domain you want to check\n",
        "\n",
        "    dmarc_policy = get_dmarc_policy(domain_to_check)\n",
        "    if dmarc_policy:\n",
        "        if dmarc_policy == 'p=reject':\n",
        "            print(f\"The DMARC policy for '{domain_to_check}' is p=reject.\")\n",
        "        else:\n",
        "            print(f\"The DMARC policy for '{domain_to_check}' is {dmarc_policy}.\")\n",
        "    else:\n",
        "        print(f\"No DMARC policy found for '{domain_to_check}'.\")\n"
      ]
    },
    {
      "cell_type": "markdown",
      "metadata": {
        "jp-MarkdownHeadingCollapsed": true,
        "id": "iSm0lCV9rHFF"
      },
      "source": [
        "### 2.6 DMARC policy percentage is default\n",
        "\n",
        "DMARC policy percentage is set to default 100%, ensuring all mail is covered by the policy."
      ]
    },
    {
      "cell_type": "code",
      "execution_count": null,
      "metadata": {
        "id": "WxwM_HdOrHFF",
        "colab": {
          "base_uri": "https://localhost:8080/"
        },
        "outputId": "de966d65-f63b-46a9-c677-8234378b48bc"
      },
      "outputs": [
        {
          "output_type": "stream",
          "name": "stdout",
          "text": [
            "Collecting dnspython\n",
            "  Downloading dnspython-2.6.1-py3-none-any.whl (307 kB)\n",
            "\u001b[?25l     \u001b[90m━━━━━━━━━━━━━━━━━━━━━━━━━━━━━━━━━━━━━━━━\u001b[0m \u001b[32m0.0/307.7 kB\u001b[0m \u001b[31m?\u001b[0m eta \u001b[36m-:--:--\u001b[0m\r\u001b[2K     \u001b[91m━━━━━━━━━━━━━━━━━━━━━━\u001b[0m\u001b[91m╸\u001b[0m\u001b[90m━━━━━━━━━━━━━━━━━\u001b[0m \u001b[32m174.1/307.7 kB\u001b[0m \u001b[31m4.9 MB/s\u001b[0m eta \u001b[36m0:00:01\u001b[0m\r\u001b[2K     \u001b[90m━━━━━━━━━━━━━━━━━━━━━━━━━━━━━━━━━━━━━━━━\u001b[0m \u001b[32m307.7/307.7 kB\u001b[0m \u001b[31m5.2 MB/s\u001b[0m eta \u001b[36m0:00:00\u001b[0m\n",
            "\u001b[?25hInstalling collected packages: dnspython\n",
            "Successfully installed dnspython-2.6.1\n",
            "No DMARC policy found for https://vinpac.com.au/\n"
          ]
        }
      ],
      "source": [
        "!pip install dnspython\n",
        "import dns.resolver\n",
        "\n",
        "def get_dmarc_policy(domain):\n",
        "    try:\n",
        "        answers = dns.resolver.resolve(f'_dmarc.{domain}', 'TXT')\n",
        "        for rdata in answers:\n",
        "            for txt_string in rdata.strings:\n",
        "                txt_string = txt_string.decode('utf-8')\n",
        "                if txt_string.startswith('v=DMARC1'):\n",
        "                    policies = txt_string.split(';')\n",
        "                    for policy in policies:\n",
        "                        if policy.strip().startswith('p='):\n",
        "                            return policy.strip()\n",
        "    except (dns.resolver.NoAnswer, dns.resolver.NXDOMAIN):\n",
        "        return None\n",
        "    except dns.resolver.Timeout:\n",
        "        return None\n",
        "\n",
        "def is_dmarc_policy_default(policy):\n",
        "    return policy == 'p=none'\n",
        "\n",
        "if __name__ == \"__main__\":\n",
        "    website_domain = domain #input(\"Enter the website domain: \")\n",
        "    dmarc_policy = get_dmarc_policy(website_domain)\n",
        "    if dmarc_policy is not None:\n",
        "        is_default = is_dmarc_policy_default(dmarc_policy)\n",
        "        print(f\"DMARC policy for {website_domain} is default: {is_default}\")\n",
        "    else:\n",
        "        print(f\"No DMARC policy found for {website_domain}\")\n"
      ]
    },
    {
      "cell_type": "markdown",
      "metadata": {
        "jp-MarkdownHeadingCollapsed": true,
        "id": "2bQwQaUTrHFG"
      },
      "source": [
        "### 2.7 No unregistered MX records detected\n",
        "\n",
        "No unregistered MX records that could lead to receiving mail on behalf of the target organization were detected."
      ]
    },
    {
      "cell_type": "code",
      "execution_count": null,
      "metadata": {
        "id": "P5LN_wY1rHFG",
        "colab": {
          "base_uri": "https://localhost:8080/"
        },
        "outputId": "a0e896b7-5ca9-4adb-d151-58130c2a3ea8"
      },
      "outputs": [
        {
          "output_type": "stream",
          "name": "stdout",
          "text": [
            "The domain 'https://vinpac.com.au/' does not exist.\n"
          ]
        },
        {
          "output_type": "stream",
          "name": "stderr",
          "text": [
            "<ipython-input-5-496ed9487700>:6: DeprecationWarning: please use dns.resolver.resolve() instead\n",
            "  mx_records = dns.resolver.query(domain, 'MX')\n"
          ]
        }
      ],
      "source": [
        "import dns.resolver\n",
        "\n",
        "def check_mx_records(domain):\n",
        "    try:\n",
        "        # Perform a DNS query for MX records of the given domain\n",
        "        mx_records = dns.resolver.query(domain, 'MX')\n",
        "\n",
        "        if mx_records:\n",
        "            print(f\"MX records found for {domain}:\")\n",
        "            for mx_record in mx_records:\n",
        "                print(f\"  Priority: {mx_record.preference}, Mail Server: {mx_record.exchange}\")\n",
        "        else:\n",
        "            print(f\"No MX records found for {domain}. The domain may not have registered MX records.\")\n",
        "    except dns.resolver.NoAnswer:\n",
        "        print(f\"No MX records found for {domain}. The domain may not have registered MX records.\")\n",
        "    except dns.resolver.NXDOMAIN:\n",
        "        print(f\"The domain '{domain}' does not exist.\")\n",
        "    except dns.resolver.NoNameservers:\n",
        "        print(\"DNS server error. Unable to query MX records.\")\n",
        "    except Exception as e:\n",
        "        print(f\"An error occurred: {e}\")\n",
        "\n",
        "if __name__ == \"__main__\":\n",
        "    website_domain = domain #input(\"Enter the website domain to check for unregistered MX records: \")\n",
        "    check_mx_records(website_domain)\n"
      ]
    },
    {
      "cell_type": "markdown",
      "metadata": {
        "editable": true,
        "tags": [],
        "id": "vmmENKztrHFG"
      },
      "source": [
        "## 3. Network Security"
      ]
    },
    {
      "cell_type": "markdown",
      "metadata": {
        "jp-MarkdownHeadingCollapsed": true,
        "id": "9bI5OQ5ZrHFG"
      },
      "source": [
        "### 3.1 DNSSEC not enabled\n",
        "\n",
        "DNSSEC records prevent third parties from forging the records that guarantee a domain's identity. DNSSEC should be configured for this domain."
      ]
    },
    {
      "cell_type": "code",
      "execution_count": null,
      "metadata": {
        "id": "UzI7z8wArHFG",
        "colab": {
          "base_uri": "https://localhost:8080/"
        },
        "outputId": "01b625cc-0f69-4af4-c7d1-279a994fcffc"
      },
      "outputs": [
        {
          "output_type": "stream",
          "name": "stdout",
          "text": [
            "The domain 'https://midlandinsurance.com.au' does not exist.\n",
            "The website 'https://midlandinsurance.com.au' does not have DNSSEC enabled.\n"
          ]
        },
        {
          "output_type": "stream",
          "name": "stderr",
          "text": [
            "<ipython-input-68-379d16cadd6d>:6: DeprecationWarning: please use dns.resolver.resolve() instead\n",
            "  answers = dns.resolver.query(domain, dns.rdatatype.DNSKEY)\n"
          ]
        }
      ],
      "source": [
        "import dns.resolver\n",
        "\n",
        "def is_dnssec_enabled(domain):\n",
        "    try:\n",
        "        # Query the DNSKEY records for the domain\n",
        "        answers = dns.resolver.query(domain, dns.rdatatype.DNSKEY)\n",
        "\n",
        "        # If there are DNSKEY records, it indicates DNSSEC is enabled\n",
        "        return len(answers) > 0\n",
        "    except dns.resolver.NXDOMAIN:\n",
        "        print(f\"The domain '{domain}' does not exist.\")\n",
        "    except dns.resolver.NoAnswer:\n",
        "        print(f\"No DNSKEY records found for the domain '{domain}'.\")\n",
        "    except dns.resolver.NoNameservers:\n",
        "        print(\"No nameservers found to perform the DNS query.\")\n",
        "    except dns.exception.DNSException as e:\n",
        "        print(f\"An error occurred while querying DNS: {e}\")\n",
        "\n",
        "    return False\n",
        "\n",
        "if __name__ == \"__main__\":\n",
        "    website_domain = domain #input(\"Enter the website domain: \")\n",
        "    is_enabled = is_dnssec_enabled(website_domain)\n",
        "    if is_enabled:\n",
        "        print(f\"The website '{website_domain}' has DNSSEC enabled.\")\n",
        "    else:\n",
        "        print(f\"The website '{website_domain}' does not have DNSSEC enabled.\")\n"
      ]
    },
    {
      "cell_type": "markdown",
      "metadata": {
        "jp-MarkdownHeadingCollapsed": true,
        "id": "BJFxA05jrHFG"
      },
      "source": [
        "### 3.2 No ports are open\n",
        "\n",
        "No open ports were detected."
      ]
    },
    {
      "cell_type": "code",
      "execution_count": null,
      "metadata": {
        "id": "-Jvxolo4rHFG",
        "colab": {
          "base_uri": "https://localhost:8080/"
        },
        "outputId": "ce9c3887-611a-4a4b-9936-6dc307928b97"
      },
      "outputs": [
        {
          "output_type": "stream",
          "name": "stdout",
          "text": [
            "Checking open ports for https://midlandinsurance.com.au:\n",
            "Port 80 is closed.\n",
            "Port 443 is closed.\n",
            "Port 8080 is closed.\n",
            "Port 22 is closed.\n",
            "Port 3389 is closed.\n"
          ]
        }
      ],
      "source": [
        "import socket\n",
        "\n",
        "def is_port_open(host, port):\n",
        "    try:\n",
        "        # Create a socket object\n",
        "        with socket.socket(socket.AF_INET, socket.SOCK_STREAM) as s:\n",
        "            # Set timeout to avoid waiting indefinitely for a response\n",
        "            s.settimeout(5)\n",
        "            # Attempt to connect to the host and port\n",
        "            result = s.connect_ex((host, port))\n",
        "            return result == 0  # If the result is 0, the port is open\n",
        "    except socket.error:\n",
        "        return False\n",
        "\n",
        "def check_open_ports(website, ports):\n",
        "    print(f\"Checking open ports for {website}:\")\n",
        "    for port in ports:\n",
        "        if is_port_open(website, port):\n",
        "            print(f\"Port {port} is open.\")\n",
        "        else:\n",
        "            print(f\"Port {port} is closed.\")\n",
        "\n",
        "if __name__ == \"__main__\":\n",
        "    website = domain #\"example.com\"  # Replace this with the website you want to scan\n",
        "    ports_to_check = [80, 443, 8080, 22, 3389]  # Add more ports if needed\n",
        "\n",
        "    check_open_ports(website, ports_to_check)\n"
      ]
    },
    {
      "cell_type": "markdown",
      "metadata": {
        "editable": true,
        "tags": [],
        "id": "N3Mfj9AGrHFG"
      },
      "source": [
        "## 4. Phishing and Malware"
      ]
    },
    {
      "cell_type": "markdown",
      "metadata": {
        "id": "awhxRGmbrHFG"
      },
      "source": [
        "### Not a suspected phishing page\n",
        "\n",
        "This site does not appear to be a forgery or imitation of another website."
      ]
    },
    {
      "cell_type": "code",
      "execution_count": null,
      "metadata": {
        "id": "c9WEGSc3rHFG",
        "colab": {
          "base_uri": "https://localhost:8080/"
        },
        "outputId": "16726039-f09e-4b96-8675-fce4a2ac5d86"
      },
      "outputs": [
        {
          "output_type": "stream",
          "name": "stdout",
          "text": [
            "Error fetching the website: HTTPSConnectionPool(host='https', port=443): Max retries exceeded with url: //midlandinsurance.com.au (Caused by NameResolutionError(\"<urllib3.connection.HTTPSConnection object at 0x7f9263aa58a0>: Failed to resolve 'https' ([Errno -2] Name or service not known)\"))\n",
            "https://https://midlandinsurance.com.au does not seem to be a forgery or imitation of https://example-legitimate.com.\n"
          ]
        }
      ],
      "source": [
        "import requests\n",
        "import difflib\n",
        "import re\n",
        "from urllib.parse import urlparse\n",
        "\n",
        "def is_forgery(website_url, legitimate_website_url, similarity_threshold=0.7):\n",
        "    # Fetch the content of the website\n",
        "    try:\n",
        "        response = requests.get(website_url)\n",
        "        response.raise_for_status()\n",
        "        website_content = response.text\n",
        "    except requests.exceptions.RequestException as e:\n",
        "        print(f\"Error fetching the website: {e}\")\n",
        "        return False\n",
        "\n",
        "    # Check domain name similarity\n",
        "    parsed_website_url = urlparse(website_url)\n",
        "    parsed_legitimate_url = urlparse(legitimate_website_url)\n",
        "    if parsed_website_url.netloc == parsed_legitimate_url.netloc:\n",
        "        print(\"The domain names are similar.\")\n",
        "    else:\n",
        "        print(\"The domain names are different. This might be a forgery.\")\n",
        "        return True\n",
        "\n",
        "    # Check SSL certificate presence\n",
        "    if not response.url.startswith(\"https\"):\n",
        "        print(\"The website does not have a valid SSL certificate. This might be a forgery.\")\n",
        "        return True\n",
        "\n",
        "    # Compare homepage content similarity\n",
        "    try:\n",
        "        legitimate_response = requests.get(legitimate_website_url)\n",
        "        legitimate_response.raise_for_status()\n",
        "        legitimate_website_content = legitimate_response.text\n",
        "\n",
        "        similarity_ratio = difflib.SequenceMatcher(None, website_content, legitimate_website_content).ratio()\n",
        "        if similarity_ratio >= similarity_threshold:\n",
        "            print(\"The website content appears to be similar to the legitimate website. This might be a forgery.\")\n",
        "            return True\n",
        "        else:\n",
        "            print(\"The website content does not seem to be a forgery.\")\n",
        "            return False\n",
        "    except requests.exceptions.RequestException as e:\n",
        "        print(f\"Error fetching the legitimate website: {e}\")\n",
        "        return False\n",
        "\n",
        "if __name__ == \"__main__\":\n",
        "    website_url = ('https://'+domain)  # Replace with the URL of the website you want to check\n",
        "    legitimate_website_url = \"https://example-legitimate.com\"  # Replace with the URL of the legitimate website\n",
        "\n",
        "    is_forgery_result = is_forgery(website_url, legitimate_website_url)\n",
        "    if is_forgery_result:\n",
        "        print(f\"{website_url} appears to be a forgery or imitation of {legitimate_website_url}.\")\n",
        "    else:\n",
        "        print(f\"{website_url} does not seem to be a forgery or imitation of {legitimate_website_url}.\")"
      ]
    },
    {
      "cell_type": "markdown",
      "metadata": {
        "jp-MarkdownHeadingCollapsed": true,
        "id": "4TVYVTXzrHFG"
      },
      "source": [
        "### Not a suspected malware provider\n",
        "\n",
        "This website does not appear to contain malicious code."
      ]
    },
    {
      "cell_type": "code",
      "execution_count": null,
      "metadata": {
        "id": "49P3x6z2rHFH",
        "colab": {
          "base_uri": "https://localhost:8080/"
        },
        "outputId": "5b5e15a9-683c-4b84-fac1-ae39f6b09a36"
      },
      "outputs": [
        {
          "output_type": "stream",
          "name": "stdout",
          "text": [
            "Error occurred while accessing the website.\n",
            "HTTPSConnectionPool(host='https', port=443): Max retries exceeded with url: //midlandinsurance.com.au (Caused by NameResolutionError(\"<urllib3.connection.HTTPSConnection object at 0x7f9263aa4af0>: Failed to resolve 'https' ([Errno -2] Name or service not known)\"))\n"
          ]
        }
      ],
      "source": [
        "import requests\n",
        "\n",
        "def check_website(url):\n",
        "    try:\n",
        "        # Send a GET request to the website\n",
        "        response = requests.get(url)\n",
        "        html_content = response.text\n",
        "\n",
        "        # Define suspicious patterns to check for\n",
        "        suspicious_patterns = [\"malware\", \"eval(\", \"document.write\"]\n",
        "\n",
        "        # Check for suspicious patterns in the HTML content\n",
        "        for pattern in suspicious_patterns:\n",
        "            if pattern in html_content:\n",
        "                print(\"Potentially malicious code detected!\")\n",
        "                print(f\"Suspicious pattern: {pattern}\")\n",
        "                return\n",
        "\n",
        "        # No suspicious patterns found\n",
        "        print(\"The website does not contain malicious code.\")\n",
        "\n",
        "    except requests.exceptions.RequestException as e:\n",
        "        print(\"Error occurred while accessing the website.\")\n",
        "        print(e)\n",
        "\n",
        "# Example usage\n",
        "website_url = ('https://'+domain) #\"https://example.com\"\n",
        "check_website(website_url)"
      ]
    },
    {
      "cell_type": "markdown",
      "metadata": {
        "id": "z-kkPg_qrHFH"
      },
      "source": [
        "### Not suspected of unwanted software\n",
        "\n",
        "This website does not appear to be attempting to install unwanted software."
      ]
    },
    {
      "cell_type": "code",
      "execution_count": null,
      "metadata": {
        "id": "6mwzVWKHrHFH"
      },
      "outputs": [],
      "source": [
        "import requests\n",
        "\n",
        "def check_website(url):\n",
        "    try:\n",
        "        response = requests.get(url)\n",
        "        if response.status_code == 200:\n",
        "            # Check content type for potential executables\n",
        "            content_type = response.headers.get('content-type', '').lower()\n",
        "            if 'application/octet-stream' in content_type:\n",
        "                print(\"Warning: Potential unwanted software detected (content-type: application/octet-stream).\")\n",
        "            elif 'application/x-msdownload' in content_type:\n",
        "                print(\"Warning: Potential unwanted software detected (content-type: application/x-msdownload).\")\n",
        "\n",
        "            # Check headers for potential security risks\n",
        "            headers = response.headers\n",
        "            if 'x-content-type-options' not in headers:\n",
        "                print(\"Warning: Missing 'X-Content-Type-Options' header.\")\n",
        "            if 'x-frame-options' not in headers or headers['x-frame-options'] != 'DENY':\n",
        "                print(\"Warning: Missing or invalid 'X-Frame-Options' header.\")\n",
        "            if 'x-xss-protection' not in headers or headers['x-xss-protection'] != '1; mode=block':\n",
        "                print(\"Warning: Missing or invalid 'X-XSS-Protection' header.\")\n",
        "\n",
        "            # Check response body for suspicious keywords\n",
        "            keywords = ['malware', 'spyware', 'adware', 'virus', 'trojan', 'ransomware']\n",
        "            for keyword in keywords:\n",
        "                if keyword in response.text:\n",
        "                    print(f\"Warning: Suspicious keyword '{keyword}' found in the response body.\")\n",
        "\n",
        "            print(\"Website check completed.\")\n",
        "        else:\n",
        "            print(f\"Error: Unexpected status code ({response.status_code})\")\n",
        "    except requests.exceptions.RequestException as e:\n",
        "        print(f\"Error: {str(e)}\")\n",
        "\n",
        "# Usage example\n",
        "check_website('https://'+domain)#('https://example.com')"
      ]
    },
    {
      "cell_type": "markdown",
      "metadata": {
        "editable": true,
        "tags": [],
        "id": "7g1nCZe5rHFH"
      },
      "source": [
        "## 5. Brand Protection"
      ]
    },
    {
      "cell_type": "markdown",
      "metadata": {
        "id": "q9DYjBoorHFH"
      },
      "source": [
        "### Domain does not expire soon\n",
        "\n",
        "Domain does not expire within 30 days."
      ]
    },
    {
      "cell_type": "code",
      "execution_count": null,
      "metadata": {
        "id": "gKk2B10drHFH"
      },
      "outputs": [],
      "source": [
        "import whois\n",
        "from datetime import datetime, timedelta\n",
        "\n",
        "def check_domain_expiry(domain):\n",
        "    # Retrieve WHOIS information for the domain\n",
        "    w = whois.whois(domain)\n",
        "\n",
        "    # Check if the domain has an expiry date\n",
        "    if w.expiration_date:\n",
        "        # Get the expiry date of the domain\n",
        "        expiry_date = w.expiration_date\n",
        "\n",
        "        # Calculate the current date and the date 30 days from now\n",
        "        current_date = datetime.now()\n",
        "        threshold_date = current_date + timedelta(days=30)\n",
        "\n",
        "        # Compare the expiry date with the threshold date\n",
        "        if expiry_date > threshold_date:\n",
        "            print(\"The domain does not expire within 30 days.\")\n",
        "        else:\n",
        "            print(\"The domain expires within 30 days.\")\n",
        "    else:\n",
        "        print(\"Could not retrieve expiry date for the domain.\")\n",
        "\n",
        "# Example usage\n",
        "domain = domain #\"example.com\"\n",
        "check_domain_expiry(domain)"
      ]
    },
    {
      "cell_type": "markdown",
      "metadata": {
        "id": "QfsgrGu7rHFH"
      },
      "source": [
        "### Domain has not expired\n",
        "\n",
        "Domain has not expired."
      ]
    },
    {
      "cell_type": "code",
      "execution_count": null,
      "metadata": {
        "id": "Bc2YxvJqrHFH"
      },
      "outputs": [],
      "source": [
        "import whois\n",
        "\n",
        "def check_domain_expiry(domain_name):\n",
        "    try:\n",
        "        domain = whois.whois(domain_name)\n",
        "        if isinstance(domain.expiration_date, list):\n",
        "            # For some domains, expiration_date may be a list of dates\n",
        "            expiry_date = domain.expiration_date[0]\n",
        "        else:\n",
        "            expiry_date = domain.expiration_date\n",
        "\n",
        "        if expiry_date is None:\n",
        "            return \"Unable to retrieve expiration date\"\n",
        "\n",
        "        if isinstance(expiry_date, str):\n",
        "            return \"Domain expiration date: \" + expiry_date\n",
        "        else:\n",
        "            return \"Domain expiration date: \" + expiry_date.strftime(\"%Y-%m-%d\")\n",
        "    except whois.parser.PywhoisError:\n",
        "        return \"Invalid domain name\"\n",
        "    except Exception as e:\n",
        "        return \"An error occurred: \" + str(e)\n",
        "\n",
        "# Example usage\n",
        "domain_name = domain #\"example.com\"\n",
        "result = check_domain_expiry(domain_name)\n",
        "print(result)"
      ]
    },
    {
      "cell_type": "markdown",
      "metadata": {
        "id": "WlTyL4oqrHFH"
      },
      "source": [
        "### Domain registrar or registry transfer protection enabled\n",
        "\n",
        "Domain is protected from unsolicited transfer requests."
      ]
    },
    {
      "cell_type": "code",
      "execution_count": null,
      "metadata": {
        "id": "ZLu39i6SrHFH"
      },
      "outputs": [],
      "source": [
        "import dns.resolver\n",
        "\n",
        "def check_dns_records(domain):\n",
        "    try:\n",
        "        answers = dns.resolver.resolve(domain, 'A')\n",
        "        if answers:\n",
        "            print(f\"Domain '{domain}' has A records:\")\n",
        "            for rdata in answers:\n",
        "                print(f\"  {rdata.address}\")\n",
        "        else:\n",
        "            print(f\"Domain '{domain}' does not have any A records.\")\n",
        "    except dns.resolver.NXDOMAIN:\n",
        "        print(f\"Domain '{domain}' does not exist or has no DNS records.\")\n",
        "    except dns.resolver.NoAnswer:\n",
        "        print(f\"No DNS records found for domain '{domain}'.\")\n",
        "    except dns.resolver.Timeout:\n",
        "        print(f\"DNS resolution timeout for domain '{domain}'.\")\n",
        "\n",
        "def main():\n",
        "    domain = input(\"Enter the domain name (e.g., example.com): \")\n",
        "    check_dns_records(domain)\n",
        "\n",
        "if __name__ == \"__main__\":\n",
        "    main()\n"
      ]
    },
    {
      "cell_type": "markdown",
      "metadata": {
        "jp-MarkdownHeadingCollapsed": true,
        "id": "kSc6jl6orHFH"
      },
      "source": [
        "### Domain not flagged as inactive\n",
        "\n",
        "Domain is not flagged as inactive."
      ]
    },
    {
      "cell_type": "code",
      "execution_count": null,
      "metadata": {
        "id": "sbMzKz0crHFI"
      },
      "outputs": [],
      "source": [
        "import socket\n",
        "\n",
        "def is_domain_inactive(domain):\n",
        "    try:\n",
        "        # Perform a DNS lookup for the domain\n",
        "        dns_records = socket.gethostbyname_ex(domain)\n",
        "\n",
        "        # If there are no active DNS records, the domain is considered inactive\n",
        "        if len(dns_records[2]) == 0:\n",
        "            return True\n",
        "        else:\n",
        "            return False\n",
        "    except socket.gaierror:\n",
        "        # If there is an error resolving the domain, it is considered inactive\n",
        "        return True\n",
        "\n",
        "if __name__ == \"__main__\":\n",
        "    # Replace \"example.com\" with the domain you want to check\n",
        "    domain_to_check = domain #\"example.com\"\n",
        "\n",
        "    if is_domain_inactive(domain_to_check):\n",
        "        print(f\"The domain '{domain_to_check}' is flagged as inactive.\")\n",
        "    else:\n",
        "        print(f\"The domain '{domain_to_check}' is active.\")\n"
      ]
    },
    {
      "cell_type": "markdown",
      "metadata": {
        "id": "nBtHc53QrHFI"
      },
      "source": [
        "### Domain not pending deletion\n",
        "\n",
        "Domain is not pending deletion with the registrar."
      ]
    },
    {
      "cell_type": "code",
      "execution_count": null,
      "metadata": {
        "id": "pHI8GEJOrHFI"
      },
      "outputs": [],
      "source": [
        "import whois\n",
        "from datetime import datetime\n",
        "\n",
        "def is_domain_pending_deletion(domain_name):\n",
        "    try:\n",
        "        # Retrieve the WHOIS information for the domain\n",
        "        domain_info = whois.whois(domain_name)\n",
        "\n",
        "        # Extract the expiration date from the WHOIS info\n",
        "        expiration_date = domain_info.expiration_date\n",
        "\n",
        "        if isinstance(expiration_date, list):\n",
        "            # For some domains, the expiration date is returned as a list of dates\n",
        "            # We will consider the first date in the list\n",
        "            expiration_date = expiration_date[0]\n",
        "\n",
        "        # Convert the expiration date to a datetime object\n",
        "        if expiration_date:\n",
        "            expiration_date = expiration_date.date()\n",
        "\n",
        "            # Get the current date\n",
        "            current_date = datetime.now().date()\n",
        "\n",
        "            # Compare the expiration date with the current date\n",
        "            if expiration_date < current_date:\n",
        "                return True\n",
        "            else:\n",
        "                return False\n",
        "        else:\n",
        "            # Unable to retrieve expiration date (could be a private domain or other issues)\n",
        "            return False\n",
        "\n",
        "    except whois.parser.PywhoisError:\n",
        "        # Unable to fetch WHOIS information (invalid domain or other issues)\n",
        "        return False\n",
        "\n",
        "if __name__ == \"__main__\":\n",
        "    domain_to_check = domain #\"example.com\"  # Replace this with the domain you want to check\n",
        "    result = is_domain_pending_deletion(domain_to_check)\n",
        "\n",
        "    if result:\n",
        "        print(f\"The domain '{domain_to_check}' is pending deletion.\")\n",
        "    else:\n",
        "        print(f\"The domain '{domain_to_check}' is not pending deletion or couldn't be verified.\")\n"
      ]
    },
    {
      "cell_type": "markdown",
      "metadata": {
        "id": "QDi1g_YjrHFI"
      },
      "source": [
        "### Domain not pending restoration\n",
        "\n",
        "Domain is not pending restoration with the registrar."
      ]
    },
    {
      "cell_type": "code",
      "execution_count": null,
      "metadata": {
        "id": "TOLhSnhVrHFI"
      },
      "outputs": [],
      "source": [
        "import whois\n",
        "\n",
        "def is_domain_pending_restoration(domain):\n",
        "    try:\n",
        "        domain_info = whois.whois(domain)\n",
        "        status = domain_info.status\n",
        "        if isinstance(status, str):\n",
        "            status = [status]  # Convert to a list for uniform handling\n",
        "\n",
        "        restoration_keywords = ['pendingRestore', 'redemptionPeriod']\n",
        "        for keyword in restoration_keywords:\n",
        "            if any(keyword.lower() in status_string.lower() for status_string in status):\n",
        "                return True\n",
        "\n",
        "        return False\n",
        "\n",
        "    except Exception as e:\n",
        "        print(f\"Error: {e}\")\n",
        "        return False\n",
        "\n",
        "if __name__ == \"__main__\":\n",
        "    domain_to_check = domain #input(\"Enter the domain name to check: \")\n",
        "    if is_domain_pending_restoration(domain_to_check):\n",
        "        print(f\"The domain {domain_to_check} is pending restoration.\")\n",
        "    else:\n",
        "        print(f\"The domain {domain_to_check} is not pending restoration.\")\n"
      ]
    },
    {
      "cell_type": "markdown",
      "metadata": {
        "id": "wuh5i1dTrHFI"
      },
      "source": [
        "### Domain free of registry DNS resolution hold\n",
        "\n",
        "Domain is not under a DNS resolution hold with the registry itself."
      ]
    },
    {
      "cell_type": "code",
      "execution_count": null,
      "metadata": {
        "id": "Kn2NeiLJrHFI"
      },
      "outputs": [],
      "source": [
        "import whois\n",
        "import socket\n",
        "\n",
        "def is_domain_available(domain_name):\n",
        "    # Check if the domain resolves to an IP address\n",
        "    try:\n",
        "        ip_address = socket.gethostbyname(domain_name)\n",
        "        print(f\"Domain {domain_name} is not available. Resolves to IP address: {ip_address}\")\n",
        "        return False\n",
        "    except socket.gaierror:\n",
        "        # If the domain does not resolve to an IP address, it might be available\n",
        "        print(f\"Domain {domain_name} is available.\")\n",
        "        return True\n",
        "\n",
        "def check_domain_availability(domain_name):\n",
        "    # Add the TLD you want to check here (e.g., '.com', '.net', etc.)\n",
        "    tld = \".com\"\n",
        "\n",
        "    full_domain_name = domain_name + tld\n",
        "\n",
        "    # Check if the domain is available with the registry\n",
        "    try:\n",
        "        w = whois.whois(full_domain_name)\n",
        "        if w.status is None:\n",
        "            print(f\"Domain {full_domain_name} is available.\")\n",
        "            return True\n",
        "        else:\n",
        "            print(f\"Domain {full_domain_name} is not available.\")\n",
        "            return False\n",
        "    except whois.parser.PywhoisError:\n",
        "        print(f\"Error: Unable to retrieve WHOIS information for {full_domain_name}.\")\n",
        "        return False\n",
        "\n",
        "if __name__ == \"__main__\":\n",
        "    domain_name = domain #input(\"Enter the domain name (without TLD): \")\n",
        "    if not domain_name:\n",
        "        print(\"Error: Please provide a domain name.\")\n",
        "    else:\n",
        "        is_domain_available(domain_name)\n",
        "        check_domain_availability(domain_name)\n"
      ]
    },
    {
      "cell_type": "markdown",
      "metadata": {
        "id": "bKQzzX3drHFI"
      },
      "source": [
        "### Domain free of registrar DNS resolution hold\n",
        "\n",
        "Domain is not under a DNS resolution hold with the registrar."
      ]
    },
    {
      "cell_type": "code",
      "execution_count": null,
      "metadata": {
        "id": "_rc3GkxkrHFI"
      },
      "outputs": [],
      "source": []
    },
    {
      "cell_type": "markdown",
      "metadata": {
        "id": "SBUQeQVsrHFI"
      },
      "source": [
        "### Domain renewal not prohibited by registry\n",
        "\n",
        "Domain is not prohibited from renewal at the registry itself.\n",
        "\n",
        "**hH**No dangling DNS records that could lead to subdomain takeover were detected."
      ]
    },
    {
      "cell_type": "code",
      "execution_count": null,
      "metadata": {
        "id": "-UpZj9UXrHFI"
      },
      "outputs": [],
      "source": [
        "import whois\n",
        "\n",
        "def is_domain_renewal_prohibited(domain_name):\n",
        "    try:\n",
        "        domain_info = whois.whois(domain_name)\n",
        "\n",
        "        # Check if the domain is not prohibited from renewal at the registry\n",
        "        if 'registrar' in domain_info and 'status' in domain_info:\n",
        "            status = domain_info['status']\n",
        "            if any(\"renewProhibited\" in s.lower() for s in status):\n",
        "                return True\n",
        "            else:\n",
        "                return False\n",
        "        else:\n",
        "            return False\n",
        "    except Exception as e:\n",
        "        print(f\"Error: {e}\")\n",
        "        return False\n",
        "\n",
        "def has_dangling_dns_records(domain_name):\n",
        "    # Implement your logic here to check for dangling DNS records.\n",
        "    # Since this is a hypothetical scenario, the actual implementation would depend on the specific requirements.\n",
        "    # For the sake of this example, let's assume there are no dangling DNS records.\n",
        "    return False\n",
        "\n",
        "def main():\n",
        "    domain_name = domain #input(\"Enter the domain name to check: \")\n",
        "\n",
        "    renewal_prohibited = is_domain_renewal_prohibited(domain_name)\n",
        "    if renewal_prohibited:\n",
        "        print(\"Domain renewal is prohibited by the registry.\")\n",
        "    else:\n",
        "        print(\"Domain renewal is allowed by the registry.\")\n",
        "\n",
        "    dangling_dns_records = has_dangling_dns_records(domain_name)\n",
        "    if dangling_dns_records:\n",
        "        print(\"Dangling DNS records detected, which could lead to subdomain takeover.\")\n",
        "    else:\n",
        "        print(\"No dangling DNS records detected.\")\n",
        "\n",
        "if __name__ == \"__main__\":\n",
        "    main()\n"
      ]
    },
    {
      "cell_type": "code",
      "execution_count": null,
      "metadata": {
        "id": "CcwDGP40rHFI"
      },
      "outputs": [],
      "source": []
    }
  ],
  "metadata": {
    "kernelspec": {
      "display_name": "Python 3 (ipykernel)",
      "language": "python",
      "name": "python3"
    },
    "language_info": {
      "codemirror_mode": {
        "name": "ipython",
        "version": 3
      },
      "file_extension": ".py",
      "mimetype": "text/x-python",
      "name": "python",
      "nbconvert_exporter": "python",
      "pygments_lexer": "ipython3",
      "version": "3.8.16"
    },
    "colab": {
      "provenance": [],
      "toc_visible": true
    }
  },
  "nbformat": 4,
  "nbformat_minor": 0
}